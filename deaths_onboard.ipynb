{
 "cells": [
  {
   "cell_type": "code",
   "execution_count": 152,
   "metadata": {},
   "outputs": [],
   "source": [
    "import pandas as pd\n",
    "import matplotlib.pyplot as plt\n",
    "import seaborn as sns\n",
    "import numpy as np"
   ]
  },
  {
   "cell_type": "code",
   "execution_count": 128,
   "metadata": {},
   "outputs": [],
   "source": [
    "df=pd.read_csv(\"E:/cruise_ship_datasets/output_deaths.csv\",encoding='latin-1')"
   ]
  },
  {
   "cell_type": "code",
   "execution_count": 129,
   "metadata": {},
   "outputs": [
    {
     "data": {
      "text/html": [
       "<div>\n",
       "<style scoped>\n",
       "    .dataframe tbody tr th:only-of-type {\n",
       "        vertical-align: middle;\n",
       "    }\n",
       "\n",
       "    .dataframe tbody tr th {\n",
       "        vertical-align: top;\n",
       "    }\n",
       "\n",
       "    .dataframe thead th {\n",
       "        text-align: right;\n",
       "    }\n",
       "</style>\n",
       "<table border=\"1\" class=\"dataframe\">\n",
       "  <thead>\n",
       "    <tr style=\"text-align: right;\">\n",
       "      <th></th>\n",
       "      <th>date_published</th>\n",
       "      <th>death_type</th>\n",
       "      <th>deceased_name</th>\n",
       "      <th>deceased_age</th>\n",
       "      <th>deceased_gender</th>\n",
       "      <th>is_passenger</th>\n",
       "      <th>is_crew</th>\n",
       "      <th>ship_cruise_line</th>\n",
       "      <th>ship_name</th>\n",
       "      <th>ship_callsign</th>\n",
       "    </tr>\n",
       "  </thead>\n",
       "  <tbody>\n",
       "    <tr>\n",
       "      <th>0</th>\n",
       "      <td>29-10-2000</td>\n",
       "      <td>overboard</td>\n",
       "      <td>Manuelita Mandy Dejos Pierce</td>\n",
       "      <td>39.0</td>\n",
       "      <td>female</td>\n",
       "      <td>True</td>\n",
       "      <td>False</td>\n",
       "      <td>Royal Caribbean International</td>\n",
       "      <td>Enchantment Of The Seas</td>\n",
       "      <td>C6FZ7</td>\n",
       "    </tr>\n",
       "    <tr>\n",
       "      <th>1</th>\n",
       "      <td>18-08-2000</td>\n",
       "      <td>suicide</td>\n",
       "      <td>Paula Ann Gunderson</td>\n",
       "      <td>45.0</td>\n",
       "      <td>female</td>\n",
       "      <td>True</td>\n",
       "      <td>False</td>\n",
       "      <td>Carnival Cruise Line</td>\n",
       "      <td>Carnival Holiday</td>\n",
       "      <td>NaN</td>\n",
       "    </tr>\n",
       "    <tr>\n",
       "      <th>2</th>\n",
       "      <td>06-06-2000</td>\n",
       "      <td>norovirus</td>\n",
       "      <td>Edith Horn</td>\n",
       "      <td>78.0</td>\n",
       "      <td>female</td>\n",
       "      <td>True</td>\n",
       "      <td>False</td>\n",
       "      <td>NaN</td>\n",
       "      <td>MV Van Gogh</td>\n",
       "      <td>NaN</td>\n",
       "    </tr>\n",
       "    <tr>\n",
       "      <th>3</th>\n",
       "      <td>13-05-2000</td>\n",
       "      <td>natural</td>\n",
       "      <td>Barbara Clifton</td>\n",
       "      <td>NaN</td>\n",
       "      <td>female</td>\n",
       "      <td>True</td>\n",
       "      <td>False</td>\n",
       "      <td>Carnival Cruise Line</td>\n",
       "      <td>Carnival Spirit</td>\n",
       "      <td>9HA3097</td>\n",
       "    </tr>\n",
       "    <tr>\n",
       "      <th>4</th>\n",
       "      <td>24-04-2000</td>\n",
       "      <td>natural</td>\n",
       "      <td>George Paoa</td>\n",
       "      <td>65.0</td>\n",
       "      <td>male</td>\n",
       "      <td>True</td>\n",
       "      <td>False</td>\n",
       "      <td>NaN</td>\n",
       "      <td>NaN</td>\n",
       "      <td>NaN</td>\n",
       "    </tr>\n",
       "  </tbody>\n",
       "</table>\n",
       "</div>"
      ],
      "text/plain": [
       "  date_published death_type                 deceased_name  deceased_age  \\\n",
       "0     29-10-2000  overboard  Manuelita Mandy Dejos Pierce          39.0   \n",
       "1     18-08-2000    suicide           Paula Ann Gunderson          45.0   \n",
       "2     06-06-2000  norovirus                    Edith Horn          78.0   \n",
       "3     13-05-2000    natural               Barbara Clifton           NaN   \n",
       "4     24-04-2000    natural                   George Paoa          65.0   \n",
       "\n",
       "  deceased_gender  is_passenger  is_crew               ship_cruise_line  \\\n",
       "0          female          True    False  Royal Caribbean International   \n",
       "1          female          True    False           Carnival Cruise Line   \n",
       "2          female          True    False                            NaN   \n",
       "3          female          True    False           Carnival Cruise Line   \n",
       "4            male          True    False                            NaN   \n",
       "\n",
       "                 ship_name ship_callsign  \n",
       "0  Enchantment Of The Seas         C6FZ7  \n",
       "1         Carnival Holiday           NaN  \n",
       "2              MV Van Gogh           NaN  \n",
       "3          Carnival Spirit       9HA3097  \n",
       "4                      NaN           NaN  "
      ]
     },
     "execution_count": 129,
     "metadata": {},
     "output_type": "execute_result"
    }
   ],
   "source": [
    "df.head()"
   ]
  },
  {
   "cell_type": "markdown",
   "metadata": {},
   "source": [
    "#### data cleaning"
   ]
  },
  {
   "cell_type": "code",
   "execution_count": 130,
   "metadata": {},
   "outputs": [],
   "source": [
    "df['deceased_age'].fillna(55,inplace=True)"
   ]
  },
  {
   "cell_type": "code",
   "execution_count": 131,
   "metadata": {},
   "outputs": [
    {
     "data": {
      "text/plain": [
       "date_published       object\n",
       "death_type           object\n",
       "deceased_name        object\n",
       "deceased_age        float64\n",
       "deceased_gender      object\n",
       "is_passenger           bool\n",
       "is_crew                bool\n",
       "ship_cruise_line     object\n",
       "ship_name            object\n",
       "ship_callsign        object\n",
       "dtype: object"
      ]
     },
     "execution_count": 131,
     "metadata": {},
     "output_type": "execute_result"
    }
   ],
   "source": [
    "df.dtypes"
   ]
  },
  {
   "cell_type": "code",
   "execution_count": 132,
   "metadata": {},
   "outputs": [],
   "source": [
    "df['age']=df['deceased_age'].astype(int)"
   ]
  },
  {
   "cell_type": "code",
   "execution_count": 133,
   "metadata": {},
   "outputs": [
    {
     "data": {
      "text/plain": [
       "date_published       object\n",
       "death_type           object\n",
       "deceased_name        object\n",
       "deceased_age        float64\n",
       "deceased_gender      object\n",
       "is_passenger           bool\n",
       "is_crew                bool\n",
       "ship_cruise_line     object\n",
       "ship_name            object\n",
       "ship_callsign        object\n",
       "age                   int32\n",
       "dtype: object"
      ]
     },
     "execution_count": 133,
     "metadata": {},
     "output_type": "execute_result"
    }
   ],
   "source": [
    "df.dtypes"
   ]
  },
  {
   "cell_type": "code",
   "execution_count": 134,
   "metadata": {},
   "outputs": [],
   "source": [
    "df.drop(df.loc[:,['deceased_age']],axis=1,inplace=True)"
   ]
  },
  {
   "cell_type": "code",
   "execution_count": 135,
   "metadata": {},
   "outputs": [
    {
     "data": {
      "text/html": [
       "<div>\n",
       "<style scoped>\n",
       "    .dataframe tbody tr th:only-of-type {\n",
       "        vertical-align: middle;\n",
       "    }\n",
       "\n",
       "    .dataframe tbody tr th {\n",
       "        vertical-align: top;\n",
       "    }\n",
       "\n",
       "    .dataframe thead th {\n",
       "        text-align: right;\n",
       "    }\n",
       "</style>\n",
       "<table border=\"1\" class=\"dataframe\">\n",
       "  <thead>\n",
       "    <tr style=\"text-align: right;\">\n",
       "      <th></th>\n",
       "      <th>date_published</th>\n",
       "      <th>death_type</th>\n",
       "      <th>deceased_name</th>\n",
       "      <th>deceased_gender</th>\n",
       "      <th>is_passenger</th>\n",
       "      <th>is_crew</th>\n",
       "      <th>ship_cruise_line</th>\n",
       "      <th>ship_name</th>\n",
       "      <th>ship_callsign</th>\n",
       "      <th>age</th>\n",
       "    </tr>\n",
       "  </thead>\n",
       "  <tbody>\n",
       "    <tr>\n",
       "      <th>0</th>\n",
       "      <td>29-10-2000</td>\n",
       "      <td>overboard</td>\n",
       "      <td>Manuelita Mandy Dejos Pierce</td>\n",
       "      <td>female</td>\n",
       "      <td>True</td>\n",
       "      <td>False</td>\n",
       "      <td>Royal Caribbean International</td>\n",
       "      <td>Enchantment Of The Seas</td>\n",
       "      <td>C6FZ7</td>\n",
       "      <td>39</td>\n",
       "    </tr>\n",
       "    <tr>\n",
       "      <th>1</th>\n",
       "      <td>18-08-2000</td>\n",
       "      <td>suicide</td>\n",
       "      <td>Paula Ann Gunderson</td>\n",
       "      <td>female</td>\n",
       "      <td>True</td>\n",
       "      <td>False</td>\n",
       "      <td>Carnival Cruise Line</td>\n",
       "      <td>Carnival Holiday</td>\n",
       "      <td>NaN</td>\n",
       "      <td>45</td>\n",
       "    </tr>\n",
       "    <tr>\n",
       "      <th>2</th>\n",
       "      <td>06-06-2000</td>\n",
       "      <td>norovirus</td>\n",
       "      <td>Edith Horn</td>\n",
       "      <td>female</td>\n",
       "      <td>True</td>\n",
       "      <td>False</td>\n",
       "      <td>NaN</td>\n",
       "      <td>MV Van Gogh</td>\n",
       "      <td>NaN</td>\n",
       "      <td>78</td>\n",
       "    </tr>\n",
       "    <tr>\n",
       "      <th>3</th>\n",
       "      <td>13-05-2000</td>\n",
       "      <td>natural</td>\n",
       "      <td>Barbara Clifton</td>\n",
       "      <td>female</td>\n",
       "      <td>True</td>\n",
       "      <td>False</td>\n",
       "      <td>Carnival Cruise Line</td>\n",
       "      <td>Carnival Spirit</td>\n",
       "      <td>9HA3097</td>\n",
       "      <td>55</td>\n",
       "    </tr>\n",
       "    <tr>\n",
       "      <th>4</th>\n",
       "      <td>24-04-2000</td>\n",
       "      <td>natural</td>\n",
       "      <td>George Paoa</td>\n",
       "      <td>male</td>\n",
       "      <td>True</td>\n",
       "      <td>False</td>\n",
       "      <td>NaN</td>\n",
       "      <td>NaN</td>\n",
       "      <td>NaN</td>\n",
       "      <td>65</td>\n",
       "    </tr>\n",
       "  </tbody>\n",
       "</table>\n",
       "</div>"
      ],
      "text/plain": [
       "  date_published death_type                 deceased_name deceased_gender  \\\n",
       "0     29-10-2000  overboard  Manuelita Mandy Dejos Pierce          female   \n",
       "1     18-08-2000    suicide           Paula Ann Gunderson          female   \n",
       "2     06-06-2000  norovirus                    Edith Horn          female   \n",
       "3     13-05-2000    natural               Barbara Clifton          female   \n",
       "4     24-04-2000    natural                   George Paoa            male   \n",
       "\n",
       "   is_passenger  is_crew               ship_cruise_line  \\\n",
       "0          True    False  Royal Caribbean International   \n",
       "1          True    False           Carnival Cruise Line   \n",
       "2          True    False                            NaN   \n",
       "3          True    False           Carnival Cruise Line   \n",
       "4          True    False                            NaN   \n",
       "\n",
       "                 ship_name ship_callsign  age  \n",
       "0  Enchantment Of The Seas         C6FZ7   39  \n",
       "1         Carnival Holiday           NaN   45  \n",
       "2              MV Van Gogh           NaN   78  \n",
       "3          Carnival Spirit       9HA3097   55  \n",
       "4                      NaN           NaN   65  "
      ]
     },
     "execution_count": 135,
     "metadata": {},
     "output_type": "execute_result"
    }
   ],
   "source": [
    "df.head()"
   ]
  },
  {
   "cell_type": "code",
   "execution_count": 136,
   "metadata": {},
   "outputs": [
    {
     "data": {
      "text/plain": [
       "date_published        0\n",
       "death_type           17\n",
       "deceased_name         1\n",
       "deceased_gender      46\n",
       "is_passenger          0\n",
       "is_crew               0\n",
       "ship_cruise_line    151\n",
       "ship_name           186\n",
       "ship_callsign       228\n",
       "age                   0\n",
       "dtype: int64"
      ]
     },
     "execution_count": 136,
     "metadata": {},
     "output_type": "execute_result"
    }
   ],
   "source": [
    "df.isnull().sum()"
   ]
  },
  {
   "cell_type": "code",
   "execution_count": 137,
   "metadata": {},
   "outputs": [],
   "source": [
    "df.dropna(subset=['death_type'],inplace=True)"
   ]
  },
  {
   "cell_type": "code",
   "execution_count": 138,
   "metadata": {},
   "outputs": [],
   "source": [
    "df['deceased_name'].fillna('John Doe',inplace=True)"
   ]
  },
  {
   "cell_type": "code",
   "execution_count": 139,
   "metadata": {},
   "outputs": [],
   "source": [
    "df.drop(df.loc[:,['ship_callsign']],axis=1,inplace=True)"
   ]
  },
  {
   "cell_type": "code",
   "execution_count": 140,
   "metadata": {},
   "outputs": [],
   "source": [
    "df.dropna(subset=['ship_cruise_line'],inplace=True)"
   ]
  },
  {
   "cell_type": "code",
   "execution_count": 141,
   "metadata": {},
   "outputs": [
    {
     "data": {
      "text/plain": [
       "date_published       0\n",
       "death_type           0\n",
       "deceased_name        0\n",
       "deceased_gender     24\n",
       "is_passenger         0\n",
       "is_crew              0\n",
       "ship_cruise_line     0\n",
       "ship_name           48\n",
       "age                  0\n",
       "dtype: int64"
      ]
     },
     "execution_count": 141,
     "metadata": {},
     "output_type": "execute_result"
    }
   ],
   "source": [
    "df.isnull().sum()"
   ]
  },
  {
   "cell_type": "code",
   "execution_count": 124,
   "metadata": {},
   "outputs": [
    {
     "data": {
      "text/plain": [
       "(399, 9)"
      ]
     },
     "execution_count": 124,
     "metadata": {},
     "output_type": "execute_result"
    }
   ],
   "source": [
    "df.shape"
   ]
  },
  {
   "cell_type": "code",
   "execution_count": 142,
   "metadata": {},
   "outputs": [],
   "source": [
    "df.replace(to_replace='Norwegian Cruise Line',value='Norwegian Cruise Lines',inplace=True)"
   ]
  },
  {
   "cell_type": "markdown",
   "metadata": {},
   "source": [
    "#### **data cleaning ends here"
   ]
  },
  {
   "cell_type": "markdown",
   "metadata": {},
   "source": [
    "### The following info tells about the number of deaths on each ship whose names are known."
   ]
  },
  {
   "cell_type": "code",
   "execution_count": 194,
   "metadata": {},
   "outputs": [
    {
     "data": {
      "text/plain": [
       "ship_cruise_line               ship_name                      \n",
       "Carnival Cruise Line           Carnival Liberty                   12\n",
       "                               Carnival Miracle                   11\n",
       "                               Carnival Fantasy                   10\n",
       "                               Carnival Ecstasy                    8\n",
       "                               Carnival Triumph                    8\n",
       "                               Carnival Destiny                    7\n",
       "                               Carnival Elation                    7\n",
       "                               Carnival Fascination                7\n",
       "                               Carnival Inspiration                7\n",
       "                               Carnival Conquest                   6\n",
       "                               Carnival Glory                      6\n",
       "                               Carnival Victory                    6\n",
       "                               Carnival Freedom                    5\n",
       "                               Carnival Imagination                4\n",
       "                               Carnival Pride                      4\n",
       "                               Carnival Spirit                     4\n",
       "                               Carnival Dream                      3\n",
       "                               Carnival Legend                     3\n",
       "                               Carnival Paradise                   3\n",
       "                               Carnival Sensation                  3\n",
       "                               Carnival Splendor                   3\n",
       "                               Carnival Valor                      3\n",
       "                               Carnival Holiday                    2\n",
       "                               Carnival Magic                      2\n",
       "                               Carnival Sunshine                   2\n",
       "                               Carnival Breeze                     1\n",
       "Catamaran Cruises              Pura Vida Princess                  3\n",
       "Celebrity Cruises              Celebrity Summit                    6\n",
       "                               Celebrity Solstice                  4\n",
       "                               Celebrity Constellation             3\n",
       "                               Celebrity Equinox                   3\n",
       "                               Celebrity Millennium                3\n",
       "                               Carnival Victory                    1\n",
       "                               Celebrity Mercury                   1\n",
       "Classic International Cruises  MV Athena                           1\n",
       "Costa Cruises                  Costa Concordia                    31\n",
       "Crystal Cruises                Crystal Symphony                    1\n",
       "Cunard Cruise Line             Queen Victoria                      1\n",
       "Disney Cruises                 Disney Fantasy                      2\n",
       "                               Disney Wonder                       2\n",
       "                               Disney Cruise Ship                  1\n",
       "                               Disney Magic                        1\n",
       "Hapag-Lloyd Cruises            MS Hanseatic                        1\n",
       "Island Cruises                 Island Adventure                    1\n",
       "MS Serenissima Cruises         MS Serenissima                      1\n",
       "Norwegian Cruise Lines         Norwegian Pearl                    11\n",
       "                               Norwegian Dawn                      4\n",
       "                               Norwegian Jewel                     4\n",
       "                               Norwegian Sky                       4\n",
       "                               Norwegian Sun                       4\n",
       "                               Norwegian Breakaway                 3\n",
       "                               Norwegian Dream                     3\n",
       "                               Norwegian Star                      3\n",
       "                               Norwegian Epic                      2\n",
       "                               Norwegian Escape                    2\n",
       "                               Norwegian Gem                       2\n",
       "                               Norwegian Spirit                    2\n",
       "                               Norwegian Getaway                   1\n",
       "                               Norwegian Jade                      1\n",
       "                               Norwegian Majesty                   1\n",
       "                               Norwegian Sun Passenger             1\n",
       "                               Norwegian Wind                      1\n",
       "Princess Cruises               Star Princess                       7\n",
       "                               Caribbean Princess                  5\n",
       "                               Emerald Princess                    5\n",
       "                               Golden Princess                     4\n",
       "                               Grand Princess                      4\n",
       "                               Dawn Princess                       3\n",
       "                               Sapphire Princess                   3\n",
       "                               Coral Princess                      2\n",
       "                               Regal Princess                      2\n",
       "                               Sea Princess                        2\n",
       "                               Sun Princess                        2\n",
       "                               Island Princess                     1\n",
       "                               Royal Princess                      1\n",
       "Royal Caribbean International  Liberty of the Seas                 9\n",
       "                               Allure of the Seas                  5\n",
       "                               Adventure Of The Seas               4\n",
       "                               Voyager Of The Seas                 4\n",
       "                               Anthem of the Seas                  3\n",
       "                               Independence of the Seas            3\n",
       "                               Monarch Of The Seas                 3\n",
       "                               Navigator of the Seas               3\n",
       "                               Oasis of the Seas                   3\n",
       "                               Radiance Of The Seas                3\n",
       "                               Brilliance Of the Seas              2\n",
       "                               Enchantment Of The Seas             2\n",
       "                               Explorer Of The Seas                2\n",
       "                               Majesty Of The Seas                 2\n",
       "                               Mariner Of The Seas                 2\n",
       "                               Freedom Of The Seas                 1\n",
       "                               Grandeur Of The Seas                1\n",
       "                               Grandeur Of The Seas Crew           1\n",
       "                               Jewel Of The Seas                   1\n",
       "                               Navigator Of The Seas Passenger     1\n",
       "                               Vision of the Seas                  1\n",
       "Skyline Cruises                Skyline Princess                    1\n",
       "Name: ship_name, dtype: int64"
      ]
     },
     "execution_count": 194,
     "metadata": {},
     "output_type": "execute_result"
    }
   ],
   "source": [
    "pd.set_option('display.max_rows', 500)\n",
    "df.groupby('ship_cruise_line')['ship_name'].value_counts()"
   ]
  },
  {
   "cell_type": "code",
   "execution_count": 181,
   "metadata": {},
   "outputs": [
    {
     "data": {
      "image/png": "[encoded data removed]",
      "text/plain": [
       "<Figure size 1080x360 with 1 Axes>"
      ]
     },
     "metadata": {
      "needs_background": "light"
     },
     "output_type": "display_data"
    }
   ],
   "source": [
    "df['ship_cruise_line'].value_counts().plot(kind='bar',figsize=(15,5))\n",
    "plt.show()"
   ]
  },
  {
   "cell_type": "markdown",
   "metadata": {},
   "source": [
    "### **The plot above shows that 'Carnival Cruise Line' has the most no. of deaths onboard."
   ]
  },
  {
   "cell_type": "code",
   "execution_count": 175,
   "metadata": {},
   "outputs": [
    {
     "data": {
      "image/png": "[encoded data removed]",
      "text/plain": [
       "<Figure size 1008x432 with 1 Axes>"
      ]
     },
     "metadata": {
      "needs_background": "light"
     },
     "output_type": "display_data"
    }
   ],
   "source": [
    "df['death_type'].value_counts().plot(kind='bar',figsize=(14,6))\n",
    "plt.show()"
   ]
  },
  {
   "cell_type": "markdown",
   "metadata": {},
   "source": [
    "### **The plot above shows that the cause of most no. of deaths was 'Natural'."
   ]
  },
  {
   "cell_type": "code",
   "execution_count": 145,
   "metadata": {},
   "outputs": [
    {
     "data": {
      "image/png": "[encoded data removed]",
      "text/plain": [
       "<Figure size 1008x648 with 1 Axes>"
      ]
     },
     "metadata": {
      "needs_background": "light"
     },
     "output_type": "display_data"
    }
   ],
   "source": [
    "df.groupby('ship_cruise_line')['age'].mean().plot(kind='barh',figsize=(14,9))\n",
    "plt.xlabel('Mean Age')\n",
    "plt.show()"
   ]
  },
  {
   "cell_type": "markdown",
   "metadata": {},
   "source": [
    "### **The plot above illustrates the mean age of all the deceased people onboard.'Silver Seas Cruises' have the highest mean of all the ages"
   ]
  },
  {
   "cell_type": "code",
   "execution_count": 196,
   "metadata": {},
   "outputs": [
    {
     "data": {
      "image/png": "[encoded data removed]",
      "text/plain": [
       "<Figure size 1080x432 with 1 Axes>"
      ]
     },
     "metadata": {},
     "output_type": "display_data"
    }
   ],
   "source": [
    "df['deceased_gender'].value_counts().plot(kind='pie',autopct='%1.2f%%',figsize=(15,6))\n",
    "plt.show()"
   ]
  },
  {
   "cell_type": "markdown",
   "metadata": {},
   "source": [
    "#### **The above plot shows the percentage of gender that died."
   ]
  },
  {
   "cell_type": "markdown",
   "metadata": {},
   "source": [
    "### The no. of people who died onboard and were passengers are presented as follows"
   ]
  },
  {
   "cell_type": "code",
   "execution_count": 120,
   "metadata": {},
   "outputs": [
    {
     "data": {
      "text/plain": [
       "ship_cruise_line\n",
       "Carnival Cruise Line             131.0\n",
       "Royal Caribbean International     44.0\n",
       "Princess Cruises                  38.0\n",
       "Norwegian Cruise Lines            34.0\n",
       "Celebrity Cruises                 20.0\n",
       "Disney Cruises                     5.0\n",
       "P&O Cruises                        5.0\n",
       "MSC Cruises                        5.0\n",
       "Cunard Cruise Line                 4.0\n",
       "Catamaran Cruises                  3.0\n",
       "Celebration Cruise Line            2.0\n",
       "Costa Cruises                      2.0\n",
       "Viking River Cruises'              1.0\n",
       "Crystal Cruises                    1.0\n",
       "Fred Olsen Cruise Line             1.0\n",
       "Fred Olsen Cruises                 1.0\n",
       "Mariposa Cruises                   1.0\n",
       "Star Cruises                       1.0\n",
       "P&O Cruise Line                    1.0\n",
       "Seabourn Cruises                   1.0\n",
       "Silver Seas Cruises                1.0\n",
       "Skyline Cruises                    1.0\n",
       "Classic International Cruises      1.0\n",
       "Bahamas Paradise Cruise Line       0.0\n",
       "American Cruise Lines              0.0\n",
       "Holland America Cruise Line        0.0\n",
       "Hapag-Lloyd Cruises                0.0\n",
       "Island Cruises                     0.0\n",
       "MS Serenissima Cruises             0.0\n",
       "Premier Cruise Lines               0.0\n",
       "Seawind Cruises                    0.0\n",
       "Alaskan Dream Cruises              0.0\n",
       "Name: is_passenger, dtype: float64"
      ]
     },
     "execution_count": 120,
     "metadata": {},
     "output_type": "execute_result"
    }
   ],
   "source": [
    "df.groupby('ship_cruise_line')['is_passenger'].sum().sort_values(ascending=False)"
   ]
  },
  {
   "cell_type": "code",
   "execution_count": 178,
   "metadata": {},
   "outputs": [
    {
     "data": {
      "image/png": "[encoded data removed]",
      "text/plain": [
       "<Figure size 864x360 with 1 Axes>"
      ]
     },
     "metadata": {
      "needs_background": "light"
     },
     "output_type": "display_data"
    }
   ],
   "source": [
    "df['is_passenger'].value_counts().plot(kind='bar',figsize=(12,5))\n",
    "plt.show()"
   ]
  },
  {
   "cell_type": "markdown",
   "metadata": {},
   "source": [
    "#### **Here 'True' represents 'passengers' and false represents 'crew members'"
   ]
  },
  {
   "cell_type": "markdown",
   "metadata": {},
   "source": [
    "### The no. of people who died onboard and were crew members are presented as follows"
   ]
  },
  {
   "cell_type": "code",
   "execution_count": 121,
   "metadata": {},
   "outputs": [
    {
     "data": {
      "text/plain": [
       "ship_cruise_line\n",
       "Norwegian Cruise Lines           6.0\n",
       "Royal Caribbean International    6.0\n",
       "Carnival Cruise Line             4.0\n",
       "Celebrity Cruises                2.0\n",
       "Princess Cruises                 2.0\n",
       "Costa Cruises                    2.0\n",
       "Hapag-Lloyd Cruises              1.0\n",
       "Island Cruises                   1.0\n",
       "MS Serenissima Cruises           1.0\n",
       "MSC Cruises                      1.0\n",
       "Holland America Cruise Line      1.0\n",
       "Disney Cruises                   1.0\n",
       "Classic International Cruises    0.0\n",
       "Celebration Cruise Line          0.0\n",
       "Catamaran Cruises                0.0\n",
       "Bahamas Paradise Cruise Line     0.0\n",
       "Crystal Cruises                  0.0\n",
       "American Cruise Lines            0.0\n",
       "Cunard Cruise Line               0.0\n",
       "Viking River Cruises'            0.0\n",
       "Fred Olsen Cruise Line           0.0\n",
       "Fred Olsen Cruises               0.0\n",
       "Star Cruises                     0.0\n",
       "Mariposa Cruises                 0.0\n",
       "P&O Cruise Line                  0.0\n",
       "P&O Cruises                      0.0\n",
       "Premier Cruise Lines             0.0\n",
       "Seabourn Cruises                 0.0\n",
       "Seawind Cruises                  0.0\n",
       "Silver Seas Cruises              0.0\n",
       "Skyline Cruises                  0.0\n",
       "Alaskan Dream Cruises            0.0\n",
       "Name: is_crew, dtype: float64"
      ]
     },
     "execution_count": 121,
     "metadata": {},
     "output_type": "execute_result"
    }
   ],
   "source": [
    "df.groupby('ship_cruise_line')['is_crew'].sum().sort_values(ascending=False)"
   ]
  },
  {
   "cell_type": "code",
   "execution_count": 179,
   "metadata": {},
   "outputs": [
    {
     "data": {
      "image/png": "[encoded data removed]",
      "text/plain": [
       "<Figure size 864x360 with 1 Axes>"
      ]
     },
     "metadata": {
      "needs_background": "light"
     },
     "output_type": "display_data"
    }
   ],
   "source": [
    "df['is_crew'].value_counts().plot(kind='bar',figsize=(12,5))\n",
    "plt.show()"
   ]
  },
  {
   "cell_type": "markdown",
   "metadata": {},
   "source": [
    "##### **Here 'True' represents 'crew members' and false represents 'passengers'.Also, from the above info and plots we can conclude that the people who died onboard were mostly passengers"
   ]
  },
  {
   "cell_type": "markdown",
   "metadata": {},
   "source": [
    "#### "
   ]
  }
 ],
 "metadata": {
  "kernelspec": {
   "display_name": "Python 3",
   "language": "python",
   "name": "python3"
  },
  "language_info": {
   "codemirror_mode": {
    "name": "ipython",
    "version": 3
   },
   "file_extension": ".py",
   "mimetype": "text/x-python",
   "name": "python",
   "nbconvert_exporter": "python",
   "pygments_lexer": "ipython3",
   "version": "3.7.3"
  }
 },
 "nbformat": 4,
 "nbformat_minor": 4
}
