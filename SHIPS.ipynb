{
 "cells": [
  {
   "cell_type": "code",
   "execution_count": 2,
   "metadata": {},
   "outputs": [],
   "source": [
    "import pandas as pd\n",
    "import matplotlib.pyplot as plt\n",
    "import seaborn as sns\n",
    "import numpy as np"
   ]
  },
  {
   "cell_type": "code",
   "execution_count": 3,
   "metadata": {},
   "outputs": [
    {
     "data": {
      "text/html": [
       "<div>\n",
       "<style scoped>\n",
       "    .dataframe tbody tr th:only-of-type {\n",
       "        vertical-align: middle;\n",
       "    }\n",
       "\n",
       "    .dataframe tbody tr th {\n",
       "        vertical-align: top;\n",
       "    }\n",
       "\n",
       "    .dataframe thead th {\n",
       "        text-align: right;\n",
       "    }\n",
       "</style>\n",
       "<table border=\"1\" class=\"dataframe\">\n",
       "  <thead>\n",
       "    <tr style=\"text-align: right;\">\n",
       "      <th></th>\n",
       "      <th>name</th>\n",
       "      <th>callsign</th>\n",
       "      <th>imo</th>\n",
       "      <th>cruise_line</th>\n",
       "      <th>major_cruise_line</th>\n",
       "      <th>year_built</th>\n",
       "      <th>class</th>\n",
       "      <th>gross_tonnage</th>\n",
       "      <th>decks</th>\n",
       "      <th>capacity</th>\n",
       "      <th>length</th>\n",
       "      <th>vessel_type</th>\n",
       "      <th>flag</th>\n",
       "      <th>home_port</th>\n",
       "    </tr>\n",
       "  </thead>\n",
       "  <tbody>\n",
       "    <tr>\n",
       "      <th>0</th>\n",
       "      <td>Wind Surf</td>\n",
       "      <td>C6IO6</td>\n",
       "      <td>NaN</td>\n",
       "      <td>1990–1998: Club Med1998 onwards: Windstar Cruises</td>\n",
       "      <td>Other</td>\n",
       "      <td>1990.0</td>\n",
       "      <td>NaN</td>\n",
       "      <td>NaN</td>\n",
       "      <td>8.0</td>\n",
       "      <td>386.0</td>\n",
       "      <td>187.00</td>\n",
       "      <td>NaN</td>\n",
       "      <td>NaN</td>\n",
       "      <td>NaN</td>\n",
       "    </tr>\n",
       "    <tr>\n",
       "      <th>1</th>\n",
       "      <td>Marco Polo</td>\n",
       "      <td>C6JZ7</td>\n",
       "      <td>6417097.0</td>\n",
       "      <td>1965–1980?: Baltic Shipping Company[1]1979?–19...</td>\n",
       "      <td>Other</td>\n",
       "      <td>1964.0</td>\n",
       "      <td>Ivan Franko-class passenger ship → Ocean liner</td>\n",
       "      <td>22080.0</td>\n",
       "      <td>NaN</td>\n",
       "      <td>820.0</td>\n",
       "      <td>176.28</td>\n",
       "      <td>passengers ship</td>\n",
       "      <td>BAHAMAS</td>\n",
       "      <td>nassau</td>\n",
       "    </tr>\n",
       "    <tr>\n",
       "      <th>2</th>\n",
       "      <td>Seabourn Quest</td>\n",
       "      <td>C6YZ5</td>\n",
       "      <td>9483126.0</td>\n",
       "      <td>Seabourn Cruise Line</td>\n",
       "      <td>Other</td>\n",
       "      <td>2011.0</td>\n",
       "      <td>Seabourn Odyssey class</td>\n",
       "      <td>32477.0</td>\n",
       "      <td>11.0</td>\n",
       "      <td>450.0</td>\n",
       "      <td>198.15</td>\n",
       "      <td>passengers ship</td>\n",
       "      <td>BAHAMAS</td>\n",
       "      <td>nassau</td>\n",
       "    </tr>\n",
       "    <tr>\n",
       "      <th>3</th>\n",
       "      <td>Oriana</td>\n",
       "      <td>ZCDU9</td>\n",
       "      <td>9050137.0</td>\n",
       "      <td>P&amp;O Cruises</td>\n",
       "      <td>Other</td>\n",
       "      <td>1995.0</td>\n",
       "      <td>NaN</td>\n",
       "      <td>69840.0</td>\n",
       "      <td>10.0</td>\n",
       "      <td>NaN</td>\n",
       "      <td>260.00</td>\n",
       "      <td>passengers ship</td>\n",
       "      <td>BERMUDA</td>\n",
       "      <td>hamilton</td>\n",
       "    </tr>\n",
       "    <tr>\n",
       "      <th>4</th>\n",
       "      <td>European Causeway</td>\n",
       "      <td>C6RG7</td>\n",
       "      <td>9208394.0</td>\n",
       "      <td>P&amp;O Ferries</td>\n",
       "      <td>Other</td>\n",
       "      <td>2000.0</td>\n",
       "      <td>NaN</td>\n",
       "      <td>20646.0</td>\n",
       "      <td>NaN</td>\n",
       "      <td>410.0</td>\n",
       "      <td>156.20</td>\n",
       "      <td>ro</td>\n",
       "      <td>BAHAMAS</td>\n",
       "      <td>nassau</td>\n",
       "    </tr>\n",
       "  </tbody>\n",
       "</table>\n",
       "</div>"
      ],
      "text/plain": [
       "                name callsign        imo  \\\n",
       "0          Wind Surf    C6IO6        NaN   \n",
       "1         Marco Polo    C6JZ7  6417097.0   \n",
       "2     Seabourn Quest    C6YZ5  9483126.0   \n",
       "3             Oriana    ZCDU9  9050137.0   \n",
       "4  European Causeway    C6RG7  9208394.0   \n",
       "\n",
       "                                         cruise_line major_cruise_line  \\\n",
       "0  1990–1998: Club Med1998 onwards: Windstar Cruises             Other   \n",
       "1  1965–1980?: Baltic Shipping Company[1]1979?–19...             Other   \n",
       "2                               Seabourn Cruise Line             Other   \n",
       "3                                        P&O Cruises             Other   \n",
       "4                                        P&O Ferries             Other   \n",
       "\n",
       "   year_built                                           class  gross_tonnage  \\\n",
       "0      1990.0                                             NaN            NaN   \n",
       "1      1964.0  Ivan Franko-class passenger ship → Ocean liner        22080.0   \n",
       "2      2011.0                          Seabourn Odyssey class        32477.0   \n",
       "3      1995.0                                             NaN        69840.0   \n",
       "4      2000.0                                             NaN        20646.0   \n",
       "\n",
       "   decks  capacity  length      vessel_type     flag home_port  \n",
       "0    8.0     386.0  187.00              NaN      NaN       NaN  \n",
       "1    NaN     820.0  176.28  passengers ship  BAHAMAS    nassau  \n",
       "2   11.0     450.0  198.15  passengers ship  BAHAMAS    nassau  \n",
       "3   10.0       NaN  260.00  passengers ship  BERMUDA  hamilton  \n",
       "4    NaN     410.0  156.20               ro  BAHAMAS    nassau  "
      ]
     },
     "execution_count": 3,
     "metadata": {},
     "output_type": "execute_result"
    }
   ],
   "source": [
    "df=pd.read_csv(\"E:/cruise_ship_datasets/output_ships.csv\")\n",
    "df.head()"
   ]
  },
  {
   "cell_type": "code",
   "execution_count": 4,
   "metadata": {},
   "outputs": [
    {
     "data": {
      "text/plain": [
       "name                   0\n",
       "callsign               0\n",
       "imo                   46\n",
       "cruise_line           36\n",
       "major_cruise_line      0\n",
       "year_built            55\n",
       "class                127\n",
       "gross_tonnage         38\n",
       "decks                110\n",
       "capacity              66\n",
       "length                93\n",
       "vessel_type           46\n",
       "flag                  47\n",
       "home_port             85\n",
       "dtype: int64"
      ]
     },
     "execution_count": 4,
     "metadata": {},
     "output_type": "execute_result"
    }
   ],
   "source": [
    "df.isnull().sum()"
   ]
  },
  {
   "cell_type": "code",
   "execution_count": 5,
   "metadata": {},
   "outputs": [
    {
     "data": {
      "text/plain": [
       "(276, 14)"
      ]
     },
     "execution_count": 5,
     "metadata": {},
     "output_type": "execute_result"
    }
   ],
   "source": [
    "df.shape"
   ]
  },
  {
   "cell_type": "markdown",
   "metadata": {},
   "source": [
    "### Data Cleaning"
   ]
  },
  {
   "cell_type": "code",
   "execution_count": 6,
   "metadata": {},
   "outputs": [],
   "source": [
    "df1 = df.dropna(subset=['imo'])\n"
   ]
  },
  {
   "cell_type": "code",
   "execution_count": 7,
   "metadata": {},
   "outputs": [
    {
     "data": {
      "text/html": [
       "<div>\n",
       "<style scoped>\n",
       "    .dataframe tbody tr th:only-of-type {\n",
       "        vertical-align: middle;\n",
       "    }\n",
       "\n",
       "    .dataframe tbody tr th {\n",
       "        vertical-align: top;\n",
       "    }\n",
       "\n",
       "    .dataframe thead th {\n",
       "        text-align: right;\n",
       "    }\n",
       "</style>\n",
       "<table border=\"1\" class=\"dataframe\">\n",
       "  <thead>\n",
       "    <tr style=\"text-align: right;\">\n",
       "      <th></th>\n",
       "      <th>name</th>\n",
       "      <th>callsign</th>\n",
       "      <th>imo</th>\n",
       "      <th>cruise_line</th>\n",
       "      <th>major_cruise_line</th>\n",
       "      <th>year_built</th>\n",
       "      <th>class</th>\n",
       "      <th>gross_tonnage</th>\n",
       "      <th>decks</th>\n",
       "      <th>capacity</th>\n",
       "      <th>length</th>\n",
       "      <th>vessel_type</th>\n",
       "      <th>flag</th>\n",
       "      <th>home_port</th>\n",
       "    </tr>\n",
       "  </thead>\n",
       "  <tbody>\n",
       "    <tr>\n",
       "      <th>1</th>\n",
       "      <td>Marco Polo</td>\n",
       "      <td>C6JZ7</td>\n",
       "      <td>6417097.0</td>\n",
       "      <td>1965–1980?: Baltic Shipping Company[1]1979?–19...</td>\n",
       "      <td>Other</td>\n",
       "      <td>1964.0</td>\n",
       "      <td>Ivan Franko-class passenger ship → Ocean liner</td>\n",
       "      <td>22080.0</td>\n",
       "      <td>NaN</td>\n",
       "      <td>820.0</td>\n",
       "      <td>176.28</td>\n",
       "      <td>passengers ship</td>\n",
       "      <td>BAHAMAS</td>\n",
       "      <td>nassau</td>\n",
       "    </tr>\n",
       "    <tr>\n",
       "      <th>2</th>\n",
       "      <td>Seabourn Quest</td>\n",
       "      <td>C6YZ5</td>\n",
       "      <td>9483126.0</td>\n",
       "      <td>Seabourn Cruise Line</td>\n",
       "      <td>Other</td>\n",
       "      <td>2011.0</td>\n",
       "      <td>Seabourn Odyssey class</td>\n",
       "      <td>32477.0</td>\n",
       "      <td>11.0</td>\n",
       "      <td>450.0</td>\n",
       "      <td>198.15</td>\n",
       "      <td>passengers ship</td>\n",
       "      <td>BAHAMAS</td>\n",
       "      <td>nassau</td>\n",
       "    </tr>\n",
       "    <tr>\n",
       "      <th>3</th>\n",
       "      <td>Oriana</td>\n",
       "      <td>ZCDU9</td>\n",
       "      <td>9050137.0</td>\n",
       "      <td>P&amp;O Cruises</td>\n",
       "      <td>Other</td>\n",
       "      <td>1995.0</td>\n",
       "      <td>NaN</td>\n",
       "      <td>69840.0</td>\n",
       "      <td>10.0</td>\n",
       "      <td>NaN</td>\n",
       "      <td>260.00</td>\n",
       "      <td>passengers ship</td>\n",
       "      <td>BERMUDA</td>\n",
       "      <td>hamilton</td>\n",
       "    </tr>\n",
       "    <tr>\n",
       "      <th>4</th>\n",
       "      <td>European Causeway</td>\n",
       "      <td>C6RG7</td>\n",
       "      <td>9208394.0</td>\n",
       "      <td>P&amp;O Ferries</td>\n",
       "      <td>Other</td>\n",
       "      <td>2000.0</td>\n",
       "      <td>NaN</td>\n",
       "      <td>20646.0</td>\n",
       "      <td>NaN</td>\n",
       "      <td>410.0</td>\n",
       "      <td>156.20</td>\n",
       "      <td>ro</td>\n",
       "      <td>BAHAMAS</td>\n",
       "      <td>nassau</td>\n",
       "    </tr>\n",
       "    <tr>\n",
       "      <th>5</th>\n",
       "      <td>Sensation</td>\n",
       "      <td>C6FM8</td>\n",
       "      <td>8711356.0</td>\n",
       "      <td>Carnival Cruise Lines</td>\n",
       "      <td>Carnival Cruise Line</td>\n",
       "      <td>1993.0</td>\n",
       "      <td>Fantasy-class cruise ship</td>\n",
       "      <td>70538.0</td>\n",
       "      <td>10.0</td>\n",
       "      <td>2056.0</td>\n",
       "      <td>69.00</td>\n",
       "      <td>passengers ship</td>\n",
       "      <td>BAHAMAS</td>\n",
       "      <td>nassau</td>\n",
       "    </tr>\n",
       "  </tbody>\n",
       "</table>\n",
       "</div>"
      ],
      "text/plain": [
       "                name callsign        imo  \\\n",
       "1         Marco Polo    C6JZ7  6417097.0   \n",
       "2     Seabourn Quest    C6YZ5  9483126.0   \n",
       "3             Oriana    ZCDU9  9050137.0   \n",
       "4  European Causeway    C6RG7  9208394.0   \n",
       "5          Sensation    C6FM8  8711356.0   \n",
       "\n",
       "                                         cruise_line     major_cruise_line  \\\n",
       "1  1965–1980?: Baltic Shipping Company[1]1979?–19...                 Other   \n",
       "2                               Seabourn Cruise Line                 Other   \n",
       "3                                        P&O Cruises                 Other   \n",
       "4                                        P&O Ferries                 Other   \n",
       "5                              Carnival Cruise Lines  Carnival Cruise Line   \n",
       "\n",
       "   year_built                                           class  gross_tonnage  \\\n",
       "1      1964.0  Ivan Franko-class passenger ship → Ocean liner        22080.0   \n",
       "2      2011.0                          Seabourn Odyssey class        32477.0   \n",
       "3      1995.0                                             NaN        69840.0   \n",
       "4      2000.0                                             NaN        20646.0   \n",
       "5      1993.0                       Fantasy-class cruise ship        70538.0   \n",
       "\n",
       "   decks  capacity  length      vessel_type     flag home_port  \n",
       "1    NaN     820.0  176.28  passengers ship  BAHAMAS    nassau  \n",
       "2   11.0     450.0  198.15  passengers ship  BAHAMAS    nassau  \n",
       "3   10.0       NaN  260.00  passengers ship  BERMUDA  hamilton  \n",
       "4    NaN     410.0  156.20               ro  BAHAMAS    nassau  \n",
       "5   10.0    2056.0   69.00  passengers ship  BAHAMAS    nassau  "
      ]
     },
     "execution_count": 7,
     "metadata": {},
     "output_type": "execute_result"
    }
   ],
   "source": [
    "df1.head()"
   ]
  },
  {
   "cell_type": "code",
   "execution_count": 9,
   "metadata": {},
   "outputs": [],
   "source": [
    "df1['cruise_line'].fillna('Princess Cruises',inplace=True)"
   ]
  },
  {
   "cell_type": "code",
   "execution_count": 10,
   "metadata": {},
   "outputs": [],
   "source": [
    "df1['year_built'].fillna('1963',inplace=True)"
   ]
  },
  {
   "cell_type": "code",
   "execution_count": 11,
   "metadata": {},
   "outputs": [],
   "source": [
    "df1['class'].fillna('Llyods',inplace=True)"
   ]
  },
  {
   "cell_type": "code",
   "execution_count": 12,
   "metadata": {},
   "outputs": [],
   "source": [
    "df1['decks'].fillna(12,inplace=True)"
   ]
  },
  {
   "cell_type": "code",
   "execution_count": 13,
   "metadata": {},
   "outputs": [],
   "source": [
    "df1['capacity'].fillna(1770.0,inplace=True)"
   ]
  },
  {
   "cell_type": "code",
   "execution_count": 14,
   "metadata": {},
   "outputs": [],
   "source": [
    "df1['length'].fillna(df1['length'].mean(),inplace=True)"
   ]
  },
  {
   "cell_type": "code",
   "execution_count": 15,
   "metadata": {},
   "outputs": [],
   "source": [
    "df1['flag'].fillna('ITALY',inplace=True)"
   ]
  },
  {
   "cell_type": "code",
   "execution_count": 16,
   "metadata": {},
   "outputs": [],
   "source": [
    "df1['home_port'].fillna('arkhangelsk',inplace=True)"
   ]
  },
  {
   "cell_type": "code",
   "execution_count": 17,
   "metadata": {},
   "outputs": [
    {
     "data": {
      "text/plain": [
       "name                 0\n",
       "callsign             0\n",
       "imo                  0\n",
       "cruise_line          0\n",
       "major_cruise_line    0\n",
       "year_built           0\n",
       "class                0\n",
       "gross_tonnage        0\n",
       "decks                0\n",
       "capacity             0\n",
       "length               0\n",
       "vessel_type          0\n",
       "flag                 0\n",
       "home_port            0\n",
       "dtype: int64"
      ]
     },
     "execution_count": 17,
     "metadata": {},
     "output_type": "execute_result"
    }
   ],
   "source": [
    "df1.isnull().sum()"
   ]
  },
  {
   "cell_type": "code",
   "execution_count": null,
   "metadata": {},
   "outputs": [],
   "source": [
    "df1.drop(df1.loc[:,['major_cruise_line']],axis=1,inplace=True)"
   ]
  },
  {
   "cell_type": "code",
   "execution_count": 116,
   "metadata": {},
   "outputs": [
    {
     "data": {
      "text/plain": [
       "(230, 13)"
      ]
     },
     "execution_count": 116,
     "metadata": {},
     "output_type": "execute_result"
    }
   ],
   "source": [
    "df1.shape"
   ]
  },
  {
   "cell_type": "markdown",
   "metadata": {},
   "source": [
    "#### data is cleaned now"
   ]
  },
  {
   "cell_type": "code",
   "execution_count": 35,
   "metadata": {},
   "outputs": [
    {
     "data": {
      "text/html": [
       "<div>\n",
       "<style scoped>\n",
       "    .dataframe tbody tr th:only-of-type {\n",
       "        vertical-align: middle;\n",
       "    }\n",
       "\n",
       "    .dataframe tbody tr th {\n",
       "        vertical-align: top;\n",
       "    }\n",
       "\n",
       "    .dataframe thead th {\n",
       "        text-align: right;\n",
       "    }\n",
       "</style>\n",
       "<table border=\"1\" class=\"dataframe\">\n",
       "  <thead>\n",
       "    <tr style=\"text-align: right;\">\n",
       "      <th></th>\n",
       "      <th>name</th>\n",
       "      <th>callsign</th>\n",
       "      <th>imo</th>\n",
       "      <th>cruise_line</th>\n",
       "      <th>year_built</th>\n",
       "      <th>class</th>\n",
       "      <th>gross_tonnage</th>\n",
       "      <th>decks</th>\n",
       "      <th>capacity</th>\n",
       "      <th>length</th>\n",
       "      <th>vessel_type</th>\n",
       "      <th>flag</th>\n",
       "      <th>home_port</th>\n",
       "    </tr>\n",
       "  </thead>\n",
       "  <tbody>\n",
       "    <tr>\n",
       "      <th>1</th>\n",
       "      <td>Marco Polo</td>\n",
       "      <td>C6JZ7</td>\n",
       "      <td>6417097.0</td>\n",
       "      <td>1965–1980?: Baltic Shipping Company[1]1979?–19...</td>\n",
       "      <td>1964</td>\n",
       "      <td>Ivan Franko-class passenger ship → Ocean liner</td>\n",
       "      <td>22080.0</td>\n",
       "      <td>12.0</td>\n",
       "      <td>820.0</td>\n",
       "      <td>176.280000</td>\n",
       "      <td>passengers ship</td>\n",
       "      <td>BAHAMAS</td>\n",
       "      <td>nassau</td>\n",
       "    </tr>\n",
       "    <tr>\n",
       "      <th>2</th>\n",
       "      <td>Seabourn Quest</td>\n",
       "      <td>C6YZ5</td>\n",
       "      <td>9483126.0</td>\n",
       "      <td>Seabourn Cruise Line</td>\n",
       "      <td>2011</td>\n",
       "      <td>Seabourn Odyssey class</td>\n",
       "      <td>32477.0</td>\n",
       "      <td>11.0</td>\n",
       "      <td>450.0</td>\n",
       "      <td>198.150000</td>\n",
       "      <td>passengers ship</td>\n",
       "      <td>BAHAMAS</td>\n",
       "      <td>nassau</td>\n",
       "    </tr>\n",
       "    <tr>\n",
       "      <th>3</th>\n",
       "      <td>Oriana</td>\n",
       "      <td>ZCDU9</td>\n",
       "      <td>9050137.0</td>\n",
       "      <td>P&amp;O Cruises</td>\n",
       "      <td>1995</td>\n",
       "      <td>Llyods</td>\n",
       "      <td>69840.0</td>\n",
       "      <td>10.0</td>\n",
       "      <td>1770.0</td>\n",
       "      <td>260.000000</td>\n",
       "      <td>passengers ship</td>\n",
       "      <td>BERMUDA</td>\n",
       "      <td>hamilton</td>\n",
       "    </tr>\n",
       "    <tr>\n",
       "      <th>4</th>\n",
       "      <td>European Causeway</td>\n",
       "      <td>C6RG7</td>\n",
       "      <td>9208394.0</td>\n",
       "      <td>P&amp;O Ferries</td>\n",
       "      <td>2000</td>\n",
       "      <td>Llyods</td>\n",
       "      <td>20646.0</td>\n",
       "      <td>12.0</td>\n",
       "      <td>410.0</td>\n",
       "      <td>156.200000</td>\n",
       "      <td>ro</td>\n",
       "      <td>BAHAMAS</td>\n",
       "      <td>nassau</td>\n",
       "    </tr>\n",
       "    <tr>\n",
       "      <th>5</th>\n",
       "      <td>Sensation</td>\n",
       "      <td>C6FM8</td>\n",
       "      <td>8711356.0</td>\n",
       "      <td>Carnival Cruise Lines</td>\n",
       "      <td>1993</td>\n",
       "      <td>Fantasy-class cruise ship</td>\n",
       "      <td>70538.0</td>\n",
       "      <td>10.0</td>\n",
       "      <td>2056.0</td>\n",
       "      <td>69.000000</td>\n",
       "      <td>passengers ship</td>\n",
       "      <td>BAHAMAS</td>\n",
       "      <td>nassau</td>\n",
       "    </tr>\n",
       "    <tr>\n",
       "      <th>...</th>\n",
       "      <td>...</td>\n",
       "      <td>...</td>\n",
       "      <td>...</td>\n",
       "      <td>...</td>\n",
       "      <td>...</td>\n",
       "      <td>...</td>\n",
       "      <td>...</td>\n",
       "      <td>...</td>\n",
       "      <td>...</td>\n",
       "      <td>...</td>\n",
       "      <td>...</td>\n",
       "      <td>...</td>\n",
       "      <td>...</td>\n",
       "    </tr>\n",
       "    <tr>\n",
       "      <th>271</th>\n",
       "      <td>Norbank</td>\n",
       "      <td>PGIS</td>\n",
       "      <td>9056583.0</td>\n",
       "      <td>North Sea Ferries</td>\n",
       "      <td>1993</td>\n",
       "      <td>Llyods</td>\n",
       "      <td>17464.0</td>\n",
       "      <td>12.0</td>\n",
       "      <td>1770.0</td>\n",
       "      <td>166.770000</td>\n",
       "      <td>ro</td>\n",
       "      <td>NETHERLANDS</td>\n",
       "      <td>rotterdam</td>\n",
       "    </tr>\n",
       "    <tr>\n",
       "      <th>272</th>\n",
       "      <td>Wind Spirit</td>\n",
       "      <td>C6CY9</td>\n",
       "      <td>8603509.0</td>\n",
       "      <td>Windstar Cruises Ltd.[1]</td>\n",
       "      <td>1987</td>\n",
       "      <td>Llyods</td>\n",
       "      <td>5736.0</td>\n",
       "      <td>12.0</td>\n",
       "      <td>148.0</td>\n",
       "      <td>134.000000</td>\n",
       "      <td>passengers ship</td>\n",
       "      <td>BAHAMAS</td>\n",
       "      <td>nassau</td>\n",
       "    </tr>\n",
       "    <tr>\n",
       "      <th>273</th>\n",
       "      <td>Silver Shadow</td>\n",
       "      <td>C6FN6</td>\n",
       "      <td>9192167.0</td>\n",
       "      <td>Silversea Cruises</td>\n",
       "      <td>2000</td>\n",
       "      <td>Llyods</td>\n",
       "      <td>28258.0</td>\n",
       "      <td>10.0</td>\n",
       "      <td>382.0</td>\n",
       "      <td>186.000000</td>\n",
       "      <td>passengers ship</td>\n",
       "      <td>BAHAMAS</td>\n",
       "      <td>nassau</td>\n",
       "    </tr>\n",
       "    <tr>\n",
       "      <th>274</th>\n",
       "      <td>Millennium</td>\n",
       "      <td>9HJF9</td>\n",
       "      <td>9189419.0</td>\n",
       "      <td>Celebrity Cruises</td>\n",
       "      <td>2000</td>\n",
       "      <td>Millennium-class cruise ship</td>\n",
       "      <td>90963.0</td>\n",
       "      <td>11.0</td>\n",
       "      <td>2138.0</td>\n",
       "      <td>294.000000</td>\n",
       "      <td>passengers ship</td>\n",
       "      <td>MALTA</td>\n",
       "      <td>valletta</td>\n",
       "    </tr>\n",
       "    <tr>\n",
       "      <th>275</th>\n",
       "      <td>Ruby Princess</td>\n",
       "      <td>ZCDY2</td>\n",
       "      <td>9378462.0</td>\n",
       "      <td>Princess Cruises</td>\n",
       "      <td>2008</td>\n",
       "      <td>Grand class cruise ship</td>\n",
       "      <td>113561.0</td>\n",
       "      <td>19.0</td>\n",
       "      <td>3080.0</td>\n",
       "      <td>220.529761</td>\n",
       "      <td>passengers ship</td>\n",
       "      <td>BERMUDA</td>\n",
       "      <td>hamilton</td>\n",
       "    </tr>\n",
       "  </tbody>\n",
       "</table>\n",
       "<p>230 rows × 13 columns</p>\n",
       "</div>"
      ],
      "text/plain": [
       "                  name callsign        imo  \\\n",
       "1           Marco Polo    C6JZ7  6417097.0   \n",
       "2       Seabourn Quest    C6YZ5  9483126.0   \n",
       "3               Oriana    ZCDU9  9050137.0   \n",
       "4    European Causeway    C6RG7  9208394.0   \n",
       "5            Sensation    C6FM8  8711356.0   \n",
       "..                 ...      ...        ...   \n",
       "271            Norbank     PGIS  9056583.0   \n",
       "272        Wind Spirit    C6CY9  8603509.0   \n",
       "273      Silver Shadow    C6FN6  9192167.0   \n",
       "274         Millennium    9HJF9  9189419.0   \n",
       "275      Ruby Princess    ZCDY2  9378462.0   \n",
       "\n",
       "                                           cruise_line year_built  \\\n",
       "1    1965–1980?: Baltic Shipping Company[1]1979?–19...       1964   \n",
       "2                                 Seabourn Cruise Line       2011   \n",
       "3                                          P&O Cruises       1995   \n",
       "4                                          P&O Ferries       2000   \n",
       "5                                Carnival Cruise Lines       1993   \n",
       "..                                                 ...        ...   \n",
       "271                                  North Sea Ferries       1993   \n",
       "272                           Windstar Cruises Ltd.[1]       1987   \n",
       "273                                  Silversea Cruises       2000   \n",
       "274                                  Celebrity Cruises       2000   \n",
       "275                                   Princess Cruises       2008   \n",
       "\n",
       "                                              class  gross_tonnage  decks  \\\n",
       "1    Ivan Franko-class passenger ship → Ocean liner        22080.0   12.0   \n",
       "2                            Seabourn Odyssey class        32477.0   11.0   \n",
       "3                                            Llyods        69840.0   10.0   \n",
       "4                                            Llyods        20646.0   12.0   \n",
       "5                         Fantasy-class cruise ship        70538.0   10.0   \n",
       "..                                              ...            ...    ...   \n",
       "271                                          Llyods        17464.0   12.0   \n",
       "272                                          Llyods         5736.0   12.0   \n",
       "273                                          Llyods        28258.0   10.0   \n",
       "274                    Millennium-class cruise ship        90963.0   11.0   \n",
       "275                         Grand class cruise ship       113561.0   19.0   \n",
       "\n",
       "     capacity      length      vessel_type         flag  home_port  \n",
       "1       820.0  176.280000  passengers ship      BAHAMAS     nassau  \n",
       "2       450.0  198.150000  passengers ship      BAHAMAS     nassau  \n",
       "3      1770.0  260.000000  passengers ship      BERMUDA   hamilton  \n",
       "4       410.0  156.200000               ro      BAHAMAS     nassau  \n",
       "5      2056.0   69.000000  passengers ship      BAHAMAS     nassau  \n",
       "..        ...         ...              ...          ...        ...  \n",
       "271    1770.0  166.770000               ro  NETHERLANDS  rotterdam  \n",
       "272     148.0  134.000000  passengers ship      BAHAMAS     nassau  \n",
       "273     382.0  186.000000  passengers ship      BAHAMAS     nassau  \n",
       "274    2138.0  294.000000  passengers ship        MALTA   valletta  \n",
       "275    3080.0  220.529761  passengers ship      BERMUDA   hamilton  \n",
       "\n",
       "[230 rows x 13 columns]"
      ]
     },
     "execution_count": 35,
     "metadata": {},
     "output_type": "execute_result"
    }
   ],
   "source": [
    "df1"
   ]
  },
  {
   "cell_type": "code",
   "execution_count": 21,
   "metadata": {},
   "outputs": [
    {
     "data": {
      "text/plain": [
       "name              object\n",
       "callsign          object\n",
       "imo              float64\n",
       "cruise_line       object\n",
       "year_built        object\n",
       "class             object\n",
       "gross_tonnage    float64\n",
       "decks            float64\n",
       "capacity         float64\n",
       "length           float64\n",
       "vessel_type       object\n",
       "flag              object\n",
       "home_port         object\n",
       "dtype: object"
      ]
     },
     "execution_count": 21,
     "metadata": {},
     "output_type": "execute_result"
    }
   ],
   "source": [
    "df1.dtypes"
   ]
  },
  {
   "cell_type": "code",
   "execution_count": null,
   "metadata": {},
   "outputs": [],
   "source": [
    "df1['year_built']=pd.to_datetime(df1['year_built'])\n"
   ]
  },
  {
   "cell_type": "code",
   "execution_count": 23,
   "metadata": {},
   "outputs": [
    {
     "data": {
      "text/plain": [
       "name                     object\n",
       "callsign                 object\n",
       "imo                     float64\n",
       "cruise_line              object\n",
       "year_built       datetime64[ns]\n",
       "class                    object\n",
       "gross_tonnage           float64\n",
       "decks                   float64\n",
       "capacity                float64\n",
       "length                  float64\n",
       "vessel_type              object\n",
       "flag                     object\n",
       "home_port                object\n",
       "dtype: object"
      ]
     },
     "execution_count": 23,
     "metadata": {},
     "output_type": "execute_result"
    }
   ],
   "source": [
    "df1.dtypes"
   ]
  },
  {
   "cell_type": "code",
   "execution_count": null,
   "metadata": {},
   "outputs": [],
   "source": [
    "df1['Year_Built']=df1['year_built'].dt.year"
   ]
  },
  {
   "cell_type": "code",
   "execution_count": null,
   "metadata": {},
   "outputs": [],
   "source": [
    "df1.drop(df1.loc[:,['year_built']],axis=1,inplace=True)"
   ]
  },
  {
   "cell_type": "code",
   "execution_count": 29,
   "metadata": {},
   "outputs": [
    {
     "data": {
      "text/html": [
       "<div>\n",
       "<style scoped>\n",
       "    .dataframe tbody tr th:only-of-type {\n",
       "        vertical-align: middle;\n",
       "    }\n",
       "\n",
       "    .dataframe tbody tr th {\n",
       "        vertical-align: top;\n",
       "    }\n",
       "\n",
       "    .dataframe thead th {\n",
       "        text-align: right;\n",
       "    }\n",
       "</style>\n",
       "<table border=\"1\" class=\"dataframe\">\n",
       "  <thead>\n",
       "    <tr style=\"text-align: right;\">\n",
       "      <th></th>\n",
       "      <th>name</th>\n",
       "      <th>callsign</th>\n",
       "      <th>imo</th>\n",
       "      <th>cruise_line</th>\n",
       "      <th>class</th>\n",
       "      <th>gross_tonnage</th>\n",
       "      <th>decks</th>\n",
       "      <th>capacity</th>\n",
       "      <th>length</th>\n",
       "      <th>vessel_type</th>\n",
       "      <th>flag</th>\n",
       "      <th>home_port</th>\n",
       "      <th>Year_Built</th>\n",
       "    </tr>\n",
       "  </thead>\n",
       "  <tbody>\n",
       "    <tr>\n",
       "      <th>1</th>\n",
       "      <td>Marco Polo</td>\n",
       "      <td>C6JZ7</td>\n",
       "      <td>6417097.0</td>\n",
       "      <td>1965–1980?: Baltic Shipping Company[1]1979?–19...</td>\n",
       "      <td>Ivan Franko-class passenger ship → Ocean liner</td>\n",
       "      <td>22080.0</td>\n",
       "      <td>12.0</td>\n",
       "      <td>820.0</td>\n",
       "      <td>176.280000</td>\n",
       "      <td>passengers ship</td>\n",
       "      <td>BAHAMAS</td>\n",
       "      <td>nassau</td>\n",
       "      <td>1970</td>\n",
       "    </tr>\n",
       "    <tr>\n",
       "      <th>2</th>\n",
       "      <td>Seabourn Quest</td>\n",
       "      <td>C6YZ5</td>\n",
       "      <td>9483126.0</td>\n",
       "      <td>Seabourn Cruise Line</td>\n",
       "      <td>Seabourn Odyssey class</td>\n",
       "      <td>32477.0</td>\n",
       "      <td>11.0</td>\n",
       "      <td>450.0</td>\n",
       "      <td>198.150000</td>\n",
       "      <td>passengers ship</td>\n",
       "      <td>BAHAMAS</td>\n",
       "      <td>nassau</td>\n",
       "      <td>1970</td>\n",
       "    </tr>\n",
       "    <tr>\n",
       "      <th>3</th>\n",
       "      <td>Oriana</td>\n",
       "      <td>ZCDU9</td>\n",
       "      <td>9050137.0</td>\n",
       "      <td>P&amp;O Cruises</td>\n",
       "      <td>Llyods</td>\n",
       "      <td>69840.0</td>\n",
       "      <td>10.0</td>\n",
       "      <td>1770.0</td>\n",
       "      <td>260.000000</td>\n",
       "      <td>passengers ship</td>\n",
       "      <td>BERMUDA</td>\n",
       "      <td>hamilton</td>\n",
       "      <td>1970</td>\n",
       "    </tr>\n",
       "    <tr>\n",
       "      <th>4</th>\n",
       "      <td>European Causeway</td>\n",
       "      <td>C6RG7</td>\n",
       "      <td>9208394.0</td>\n",
       "      <td>P&amp;O Ferries</td>\n",
       "      <td>Llyods</td>\n",
       "      <td>20646.0</td>\n",
       "      <td>12.0</td>\n",
       "      <td>410.0</td>\n",
       "      <td>156.200000</td>\n",
       "      <td>ro</td>\n",
       "      <td>BAHAMAS</td>\n",
       "      <td>nassau</td>\n",
       "      <td>1970</td>\n",
       "    </tr>\n",
       "    <tr>\n",
       "      <th>5</th>\n",
       "      <td>Sensation</td>\n",
       "      <td>C6FM8</td>\n",
       "      <td>8711356.0</td>\n",
       "      <td>Carnival Cruise Lines</td>\n",
       "      <td>Fantasy-class cruise ship</td>\n",
       "      <td>70538.0</td>\n",
       "      <td>10.0</td>\n",
       "      <td>2056.0</td>\n",
       "      <td>69.000000</td>\n",
       "      <td>passengers ship</td>\n",
       "      <td>BAHAMAS</td>\n",
       "      <td>nassau</td>\n",
       "      <td>1970</td>\n",
       "    </tr>\n",
       "    <tr>\n",
       "      <th>...</th>\n",
       "      <td>...</td>\n",
       "      <td>...</td>\n",
       "      <td>...</td>\n",
       "      <td>...</td>\n",
       "      <td>...</td>\n",
       "      <td>...</td>\n",
       "      <td>...</td>\n",
       "      <td>...</td>\n",
       "      <td>...</td>\n",
       "      <td>...</td>\n",
       "      <td>...</td>\n",
       "      <td>...</td>\n",
       "      <td>...</td>\n",
       "    </tr>\n",
       "    <tr>\n",
       "      <th>271</th>\n",
       "      <td>Norbank</td>\n",
       "      <td>PGIS</td>\n",
       "      <td>9056583.0</td>\n",
       "      <td>North Sea Ferries</td>\n",
       "      <td>Llyods</td>\n",
       "      <td>17464.0</td>\n",
       "      <td>12.0</td>\n",
       "      <td>1770.0</td>\n",
       "      <td>166.770000</td>\n",
       "      <td>ro</td>\n",
       "      <td>NETHERLANDS</td>\n",
       "      <td>rotterdam</td>\n",
       "      <td>1970</td>\n",
       "    </tr>\n",
       "    <tr>\n",
       "      <th>272</th>\n",
       "      <td>Wind Spirit</td>\n",
       "      <td>C6CY9</td>\n",
       "      <td>8603509.0</td>\n",
       "      <td>Windstar Cruises Ltd.[1]</td>\n",
       "      <td>Llyods</td>\n",
       "      <td>5736.0</td>\n",
       "      <td>12.0</td>\n",
       "      <td>148.0</td>\n",
       "      <td>134.000000</td>\n",
       "      <td>passengers ship</td>\n",
       "      <td>BAHAMAS</td>\n",
       "      <td>nassau</td>\n",
       "      <td>1970</td>\n",
       "    </tr>\n",
       "    <tr>\n",
       "      <th>273</th>\n",
       "      <td>Silver Shadow</td>\n",
       "      <td>C6FN6</td>\n",
       "      <td>9192167.0</td>\n",
       "      <td>Silversea Cruises</td>\n",
       "      <td>Llyods</td>\n",
       "      <td>28258.0</td>\n",
       "      <td>10.0</td>\n",
       "      <td>382.0</td>\n",
       "      <td>186.000000</td>\n",
       "      <td>passengers ship</td>\n",
       "      <td>BAHAMAS</td>\n",
       "      <td>nassau</td>\n",
       "      <td>1970</td>\n",
       "    </tr>\n",
       "    <tr>\n",
       "      <th>274</th>\n",
       "      <td>Millennium</td>\n",
       "      <td>9HJF9</td>\n",
       "      <td>9189419.0</td>\n",
       "      <td>Celebrity Cruises</td>\n",
       "      <td>Millennium-class cruise ship</td>\n",
       "      <td>90963.0</td>\n",
       "      <td>11.0</td>\n",
       "      <td>2138.0</td>\n",
       "      <td>294.000000</td>\n",
       "      <td>passengers ship</td>\n",
       "      <td>MALTA</td>\n",
       "      <td>valletta</td>\n",
       "      <td>1970</td>\n",
       "    </tr>\n",
       "    <tr>\n",
       "      <th>275</th>\n",
       "      <td>Ruby Princess</td>\n",
       "      <td>ZCDY2</td>\n",
       "      <td>9378462.0</td>\n",
       "      <td>Princess Cruises</td>\n",
       "      <td>Grand class cruise ship</td>\n",
       "      <td>113561.0</td>\n",
       "      <td>19.0</td>\n",
       "      <td>3080.0</td>\n",
       "      <td>220.529761</td>\n",
       "      <td>passengers ship</td>\n",
       "      <td>BERMUDA</td>\n",
       "      <td>hamilton</td>\n",
       "      <td>1970</td>\n",
       "    </tr>\n",
       "  </tbody>\n",
       "</table>\n",
       "<p>230 rows × 13 columns</p>\n",
       "</div>"
      ],
      "text/plain": [
       "                  name callsign        imo  \\\n",
       "1           Marco Polo    C6JZ7  6417097.0   \n",
       "2       Seabourn Quest    C6YZ5  9483126.0   \n",
       "3               Oriana    ZCDU9  9050137.0   \n",
       "4    European Causeway    C6RG7  9208394.0   \n",
       "5            Sensation    C6FM8  8711356.0   \n",
       "..                 ...      ...        ...   \n",
       "271            Norbank     PGIS  9056583.0   \n",
       "272        Wind Spirit    C6CY9  8603509.0   \n",
       "273      Silver Shadow    C6FN6  9192167.0   \n",
       "274         Millennium    9HJF9  9189419.0   \n",
       "275      Ruby Princess    ZCDY2  9378462.0   \n",
       "\n",
       "                                           cruise_line  \\\n",
       "1    1965–1980?: Baltic Shipping Company[1]1979?–19...   \n",
       "2                                 Seabourn Cruise Line   \n",
       "3                                          P&O Cruises   \n",
       "4                                          P&O Ferries   \n",
       "5                                Carnival Cruise Lines   \n",
       "..                                                 ...   \n",
       "271                                  North Sea Ferries   \n",
       "272                           Windstar Cruises Ltd.[1]   \n",
       "273                                  Silversea Cruises   \n",
       "274                                  Celebrity Cruises   \n",
       "275                                   Princess Cruises   \n",
       "\n",
       "                                              class  gross_tonnage  decks  \\\n",
       "1    Ivan Franko-class passenger ship → Ocean liner        22080.0   12.0   \n",
       "2                            Seabourn Odyssey class        32477.0   11.0   \n",
       "3                                            Llyods        69840.0   10.0   \n",
       "4                                            Llyods        20646.0   12.0   \n",
       "5                         Fantasy-class cruise ship        70538.0   10.0   \n",
       "..                                              ...            ...    ...   \n",
       "271                                          Llyods        17464.0   12.0   \n",
       "272                                          Llyods         5736.0   12.0   \n",
       "273                                          Llyods        28258.0   10.0   \n",
       "274                    Millennium-class cruise ship        90963.0   11.0   \n",
       "275                         Grand class cruise ship       113561.0   19.0   \n",
       "\n",
       "     capacity      length      vessel_type         flag  home_port  Year_Built  \n",
       "1       820.0  176.280000  passengers ship      BAHAMAS     nassau        1970  \n",
       "2       450.0  198.150000  passengers ship      BAHAMAS     nassau        1970  \n",
       "3      1770.0  260.000000  passengers ship      BERMUDA   hamilton        1970  \n",
       "4       410.0  156.200000               ro      BAHAMAS     nassau        1970  \n",
       "5      2056.0   69.000000  passengers ship      BAHAMAS     nassau        1970  \n",
       "..        ...         ...              ...          ...        ...         ...  \n",
       "271    1770.0  166.770000               ro  NETHERLANDS  rotterdam        1970  \n",
       "272     148.0  134.000000  passengers ship      BAHAMAS     nassau        1970  \n",
       "273     382.0  186.000000  passengers ship      BAHAMAS     nassau        1970  \n",
       "274    2138.0  294.000000  passengers ship        MALTA   valletta        1970  \n",
       "275    3080.0  220.529761  passengers ship      BERMUDA   hamilton        1970  \n",
       "\n",
       "[230 rows x 13 columns]"
      ]
     },
     "execution_count": 29,
     "metadata": {},
     "output_type": "execute_result"
    }
   ],
   "source": [
    "df1"
   ]
  },
  {
   "cell_type": "markdown",
   "metadata": {},
   "source": [
    "### In the above sections we converted year_built as datetime data type and then created a seperate column for it.  "
   ]
  },
  {
   "cell_type": "code",
   "execution_count": 117,
   "metadata": {},
   "outputs": [
    {
     "data": {
      "text/plain": [
       "Llyods                        89\n",
       "Fantasy-class cruise ship      7\n",
       "Spirit-class cruise ship       6\n",
       "Vision-class cruise ship       6\n",
       "Conquest-class cruise ship     5\n",
       "                              ..\n",
       "Sun class cruise ship          1\n",
       "Cruise ship                    1\n",
       "MDV1200 class fast ferry       1\n",
       "Vista-class cruise ship        1\n",
       "S-class ferry                  1\n",
       "Name: class, Length: 78, dtype: int64"
      ]
     },
     "execution_count": 117,
     "metadata": {},
     "output_type": "execute_result"
    }
   ],
   "source": [
    "df1['class'].value_counts()"
   ]
  },
  {
   "cell_type": "markdown",
   "metadata": {},
   "source": [
    "### The above data shows that 'Lloyds' is the most preferred classification society."
   ]
  },
  {
   "cell_type": "code",
   "execution_count": 37,
   "metadata": {},
   "outputs": [
    {
     "data": {
      "text/plain": [
       "Royal Caribbean International                                                                                                                                                                                                                                                    18\n",
       "Costa Crociere                                                                                                                                                                                                                                                                   15\n",
       "Holland America Line                                                                                                                                                                                                                                                             12\n",
       "Carnival Cruise Lines                                                                                                                                                                                                                                                            11\n",
       "Carnival Cruise Line                                                                                                                                                                                                                                                             11\n",
       "                                                                                                                                                                                                                                                                                 ..\n",
       "1982–1983: Scandinavian World Cruises1983–1985:  DFDS Seaways1985–1987: Sundance Cruises1987–1988: Admiral Cruises1988–1990: Royal Admiral Cruises1990–2002: Royal Caribbean International2002–2009: Island Cruises[1]2009–2015: Thomson Cruises[2]2015-2017: US Shipmanagers     1\n",
       "Isle of Man Steam Packet Company                                                                                                                                                                                                                                                  1\n",
       "Majesty Cruise Line                                                                                                                                                                                                                                                               1\n",
       "Oceanwide Expeditions                                                                                                                                                                                                                                                             1\n",
       "1981–1999: Hapag-Lloyd1999–2004; Star Cruises2004–2008: Pullmantur Cruises2008–2011: CDF Croisières de France[1]2011 onwards: Saga                                                                                                                                                1\n",
       "Name: cruise_line, Length: 101, dtype: int64"
      ]
     },
     "execution_count": 37,
     "metadata": {},
     "output_type": "execute_result"
    }
   ],
   "source": [
    "df1['cruise_line'].value_counts()"
   ]
  },
  {
   "cell_type": "markdown",
   "metadata": {},
   "source": [
    "### The above data shows that 'Royal Caribbean International' has most no. of ships in this dataset"
   ]
  },
  {
   "cell_type": "code",
   "execution_count": 38,
   "metadata": {},
   "outputs": [
    {
     "data": {
      "text/plain": [
       "1963      19\n",
       "2001.0    13\n",
       "2000.0    12\n",
       "2004.0    12\n",
       "1998.0    11\n",
       "2003.0    10\n",
       "2002.0    10\n",
       "1996.0     8\n",
       "2008.0     8\n",
       "1987.0     8\n",
       "1997.0     7\n",
       "1992.0     7\n",
       "1999.0     7\n",
       "2010.0     6\n",
       "2006.0     6\n",
       "1995.0     6\n",
       "1994.0     6\n",
       "1993.0     6\n",
       "1991.0     5\n",
       "1988.0     5\n",
       "2007.0     5\n",
       "1982.0     4\n",
       "2011.0     4\n",
       "1963.0     4\n",
       "2009.0     4\n",
       "1981.0     3\n",
       "2005.0     3\n",
       "1980.0     3\n",
       "1989.0     3\n",
       "1971.0     2\n",
       "1986.0     2\n",
       "1977.0     2\n",
       "1990.0     2\n",
       "1973.0     2\n",
       "1966.0     2\n",
       "2014.0     2\n",
       "2012.0     2\n",
       "1984.0     2\n",
       "1969.0     1\n",
       "1972.0     1\n",
       "1964.0     1\n",
       "1975.0     1\n",
       "2016.0     1\n",
       "2015.0     1\n",
       "2013.0     1\n",
       "Name: year_built, dtype: int64"
      ]
     },
     "execution_count": 38,
     "metadata": {},
     "output_type": "execute_result"
    }
   ],
   "source": [
    "df1['year_built'].value_counts()"
   ]
  },
  {
   "cell_type": "markdown",
   "metadata": {},
   "source": [
    "### the above data shows that most of the ships were built in 1963"
   ]
  },
  {
   "cell_type": "code",
   "execution_count": 16,
   "metadata": {},
   "outputs": [
    {
     "data": {
      "text/plain": [
       "passengers ship    177\n",
       "ro                  50\n",
       "passenger            1\n",
       "research             1\n",
       "icebreaker           1\n",
       "Name: vessel_type, dtype: int64"
      ]
     },
     "execution_count": 16,
     "metadata": {},
     "output_type": "execute_result"
    }
   ],
   "source": [
    "df1['vessel_type'].value_counts()"
   ]
  },
  {
   "cell_type": "markdown",
   "metadata": {},
   "source": [
    "#### as the above data shows passenger as a different category rather than being among the passengers ship, we will just replace it in the following manner"
   ]
  },
  {
   "cell_type": "code",
   "execution_count": 119,
   "metadata": {},
   "outputs": [
    {
     "data": {
      "text/html": [
       "<div>\n",
       "<style scoped>\n",
       "    .dataframe tbody tr th:only-of-type {\n",
       "        vertical-align: middle;\n",
       "    }\n",
       "\n",
       "    .dataframe tbody tr th {\n",
       "        vertical-align: top;\n",
       "    }\n",
       "\n",
       "    .dataframe thead th {\n",
       "        text-align: right;\n",
       "    }\n",
       "</style>\n",
       "<table border=\"1\" class=\"dataframe\">\n",
       "  <thead>\n",
       "    <tr style=\"text-align: right;\">\n",
       "      <th></th>\n",
       "      <th>name</th>\n",
       "      <th>callsign</th>\n",
       "      <th>imo</th>\n",
       "      <th>cruise_line</th>\n",
       "      <th>year_built</th>\n",
       "      <th>class</th>\n",
       "      <th>gross_tonnage</th>\n",
       "      <th>decks</th>\n",
       "      <th>capacity</th>\n",
       "      <th>length</th>\n",
       "      <th>vessel_type</th>\n",
       "      <th>flag</th>\n",
       "      <th>home_port</th>\n",
       "    </tr>\n",
       "  </thead>\n",
       "  <tbody>\n",
       "    <tr>\n",
       "      <th>151</th>\n",
       "      <td>St Helena</td>\n",
       "      <td>MMHE5</td>\n",
       "      <td>8716306.0</td>\n",
       "      <td>Andrew Weir Shipping Ltd</td>\n",
       "      <td>1963</td>\n",
       "      <td>Llyods</td>\n",
       "      <td>6767.0</td>\n",
       "      <td>12.0</td>\n",
       "      <td>128.0</td>\n",
       "      <td>105.0</td>\n",
       "      <td>passenger</td>\n",
       "      <td>UNITED KINGDOM</td>\n",
       "      <td>london</td>\n",
       "    </tr>\n",
       "  </tbody>\n",
       "</table>\n",
       "</div>"
      ],
      "text/plain": [
       "          name callsign        imo               cruise_line year_built  \\\n",
       "151  St Helena    MMHE5  8716306.0  Andrew Weir Shipping Ltd       1963   \n",
       "\n",
       "      class  gross_tonnage  decks  capacity  length vessel_type  \\\n",
       "151  Llyods         6767.0   12.0     128.0   105.0   passenger   \n",
       "\n",
       "               flag home_port  \n",
       "151  UNITED KINGDOM    london  "
      ]
     },
     "execution_count": 119,
     "metadata": {},
     "output_type": "execute_result"
    }
   ],
   "source": [
    "df1[df1['vessel_type']=='passenger']"
   ]
  },
  {
   "cell_type": "code",
   "execution_count": 37,
   "metadata": {},
   "outputs": [
    {
     "name": "stderr",
     "output_type": "stream",
     "text": [
      "c:\\users\\baps\\appdata\\local\\programs\\python\\python37\\lib\\site-packages\\pandas\\core\\frame.py:4172: SettingWithCopyWarning: \n",
      "A value is trying to be set on a copy of a slice from a DataFrame\n",
      "\n",
      "See the caveats in the documentation: https://pandas.pydata.org/pandas-docs/stable/user_guide/indexing.html#returning-a-view-versus-a-copy\n",
      "  method=method,\n"
     ]
    }
   ],
   "source": [
    "df1.replace(to_replace =\"passenger\", value =\"passengers ship\",inplace=True) "
   ]
  },
  {
   "cell_type": "code",
   "execution_count": 38,
   "metadata": {},
   "outputs": [],
   "source": [
    "df1.replace(to_replace =\"ro\", value =\"rollon-rolloff\",inplace=True) "
   ]
  },
  {
   "cell_type": "markdown",
   "metadata": {},
   "source": [
    "### You can see above how we have replaced the incorrect category"
   ]
  },
  {
   "cell_type": "code",
   "execution_count": 39,
   "metadata": {},
   "outputs": [
    {
     "data": {
      "image/png": "[encoded data removed]",
      "text/plain": [
       "<Figure size 864x360 with 1 Axes>"
      ]
     },
     "metadata": {
      "needs_background": "light"
     },
     "output_type": "display_data"
    }
   ],
   "source": [
    "plt.figure(figsize=(12,5))\n",
    "y=df1['vessel_type'].value_counts().plot(kind='bar')\n",
    "\n",
    "totals = []\n",
    "\n",
    "# find the values and append to list\n",
    "for i in y.patches:\n",
    "    totals.append(i.get_width())\n",
    "\n",
    "# set individual bar lables using above list\n",
    "total = sum(totals)\n",
    "\n",
    "for i in y.patches:\n",
    "    # get_x pulls left or right; get_height pushes up or down\n",
    "    y.text(i.get_x(), i.get_height()+1, \\\n",
    "str(round((i.get_height()), 2)), fontsize=10,color='black')"
   ]
  },
  {
   "cell_type": "markdown",
   "metadata": {},
   "source": [
    "### the above plot shows that the category of ships that are maximum in our dataset is 'passenger ships'"
   ]
  },
  {
   "cell_type": "code",
   "execution_count": 124,
   "metadata": {},
   "outputs": [],
   "source": [
    "df1.replace(to_replace='Italy',value='ITALY',inplace=True)"
   ]
  },
  {
   "cell_type": "code",
   "execution_count": 85,
   "metadata": {},
   "outputs": [
    {
     "data": {
      "image/png": "[encoded data removed]",
      "text/plain": [
       "<Figure size 864x360 with 1 Axes>"
      ]
     },
     "metadata": {
      "needs_background": "light"
     },
     "output_type": "display_data"
    }
   ],
   "source": [
    "plt.figure(figsize=(12,5))\n",
    "z=df1['flag'].value_counts().plot(kind='bar')\n",
    "totals = []\n",
    "\n",
    "# find the values and append to list\n",
    "for i in z.patches:\n",
    "    totals.append(i.get_width())\n",
    "\n",
    "# set individual bar lables using above list\n",
    "total = sum(totals)\n",
    "\n",
    "for i in z.patches:\n",
    "    # get_x pulls left or right; get_height pushes up or down\n",
    "    z.text(i.get_x(), i.get_height()+1, \\\n",
    "str(round((i.get_height()), 2)), fontsize=13,color='black')\n",
    "plt.show()"
   ]
  },
  {
   "cell_type": "markdown",
   "metadata": {},
   "source": [
    "### from the above plot we have come to know that 'Bahamas' is the most preferred flag of registration"
   ]
  },
  {
   "cell_type": "code",
   "execution_count": 90,
   "metadata": {},
   "outputs": [
    {
     "data": {
      "image/png": "[encoded data removed]",
      "text/plain": [
       "<Figure size 1080x360 with 1 Axes>"
      ]
     },
     "metadata": {
      "needs_background": "light"
     },
     "output_type": "display_data"
    }
   ],
   "source": [
    "plt.figure(figsize=(15,5))\n",
    "h=df1['home_port'].value_counts().plot(kind='bar')\n",
    "totals = []\n",
    "\n",
    "# find the values and append to list\n",
    "for i in h.patches:\n",
    "    totals.append(i.get_width())\n",
    "\n",
    "# set individual bar lables using above list\n",
    "total = sum(totals)\n",
    "\n",
    "for i in h.patches:\n",
    "    # get_x pulls left or right; get_height pushes up or down\n",
    "    h.text(i.get_x(), i.get_height()+1, \\\n",
    "str(round((i.get_height()), 2)), fontsize=10,color='black')"
   ]
  },
  {
   "cell_type": "markdown",
   "metadata": {},
   "source": [
    "### from the above data we can say that most of the ships in the dataset belongs to 'Nassau' as their home port"
   ]
  },
  {
   "cell_type": "code",
   "execution_count": 23,
   "metadata": {},
   "outputs": [
    {
     "data": {
      "text/plain": [
       "30277.0     6\n",
       "90090.0     4\n",
       "113561.0    3\n",
       "70367.0     3\n",
       "90940.0     3\n",
       "           ..\n",
       "91740.0     1\n",
       "19638.0     1\n",
       "115906.0    1\n",
       "22986.0     1\n",
       "22080.0     1\n",
       "Name: gross_tonnage, Length: 183, dtype: int64"
      ]
     },
     "execution_count": 23,
     "metadata": {},
     "output_type": "execute_result"
    }
   ],
   "source": [
    "df1['gross_tonnage'].value_counts()"
   ]
  },
  {
   "cell_type": "markdown",
   "metadata": {},
   "source": [
    "### from the above data generated we have got the no. of ships that mostly have a particular type of gross tonnage for carrying cargo. The most preferrable is 30,277"
   ]
  },
  {
   "cell_type": "markdown",
   "metadata": {},
   "source": [
    "### The following ships have the maximum gross tonnage"
   ]
  },
  {
   "cell_type": "code",
   "execution_count": 128,
   "metadata": {},
   "outputs": [
    {
     "data": {
      "text/html": [
       "<div>\n",
       "<style scoped>\n",
       "    .dataframe tbody tr th:only-of-type {\n",
       "        vertical-align: middle;\n",
       "    }\n",
       "\n",
       "    .dataframe tbody tr th {\n",
       "        vertical-align: top;\n",
       "    }\n",
       "\n",
       "    .dataframe thead th {\n",
       "        text-align: right;\n",
       "    }\n",
       "</style>\n",
       "<table border=\"1\" class=\"dataframe\">\n",
       "  <thead>\n",
       "    <tr style=\"text-align: right;\">\n",
       "      <th></th>\n",
       "      <th>name</th>\n",
       "      <th>callsign</th>\n",
       "      <th>imo</th>\n",
       "      <th>cruise_line</th>\n",
       "      <th>year_built</th>\n",
       "      <th>class</th>\n",
       "      <th>gross_tonnage</th>\n",
       "      <th>decks</th>\n",
       "      <th>capacity</th>\n",
       "      <th>length</th>\n",
       "      <th>vessel_type</th>\n",
       "      <th>flag</th>\n",
       "      <th>home_port</th>\n",
       "    </tr>\n",
       "  </thead>\n",
       "  <tbody>\n",
       "    <tr>\n",
       "      <th>80</th>\n",
       "      <td>Allure of the Seas</td>\n",
       "      <td>C6XS8</td>\n",
       "      <td>9383948.0</td>\n",
       "      <td>Royal Caribbean International</td>\n",
       "      <td>2010</td>\n",
       "      <td>Oasis-class cruise ship</td>\n",
       "      <td>220000.0</td>\n",
       "      <td>16.0</td>\n",
       "      <td>5400.0</td>\n",
       "      <td>360.0</td>\n",
       "      <td>passengers ship</td>\n",
       "      <td>BAHAMAS</td>\n",
       "      <td>nassau</td>\n",
       "    </tr>\n",
       "    <tr>\n",
       "      <th>221</th>\n",
       "      <td>Oasis of the Seas</td>\n",
       "      <td>C6XS7</td>\n",
       "      <td>9383936.0</td>\n",
       "      <td>Royal Caribbean International</td>\n",
       "      <td>2009</td>\n",
       "      <td>Oasis-class cruise ship</td>\n",
       "      <td>220000.0</td>\n",
       "      <td>16.0</td>\n",
       "      <td>5400.0</td>\n",
       "      <td>360.0</td>\n",
       "      <td>passengers ship</td>\n",
       "      <td>BAHAMAS</td>\n",
       "      <td>nassau</td>\n",
       "    </tr>\n",
       "  </tbody>\n",
       "</table>\n",
       "</div>"
      ],
      "text/plain": [
       "                   name callsign        imo                    cruise_line  \\\n",
       "80   Allure of the Seas    C6XS8  9383948.0  Royal Caribbean International   \n",
       "221   Oasis of the Seas    C6XS7  9383936.0  Royal Caribbean International   \n",
       "\n",
       "    year_built                    class  gross_tonnage  decks  capacity  \\\n",
       "80        2010  Oasis-class cruise ship       220000.0   16.0    5400.0   \n",
       "221       2009  Oasis-class cruise ship       220000.0   16.0    5400.0   \n",
       "\n",
       "     length      vessel_type     flag home_port  \n",
       "80    360.0  passengers ship  BAHAMAS    nassau  \n",
       "221   360.0  passengers ship  BAHAMAS    nassau  "
      ]
     },
     "execution_count": 128,
     "metadata": {},
     "output_type": "execute_result"
    }
   ],
   "source": [
    "df1[df1['gross_tonnage']==df1['gross_tonnage'].max()]"
   ]
  },
  {
   "cell_type": "markdown",
   "metadata": {},
   "source": [
    "### The following ship has the minimum gross tonnage"
   ]
  },
  {
   "cell_type": "code",
   "execution_count": 129,
   "metadata": {},
   "outputs": [
    {
     "data": {
      "text/html": [
       "<div>\n",
       "<style scoped>\n",
       "    .dataframe tbody tr th:only-of-type {\n",
       "        vertical-align: middle;\n",
       "    }\n",
       "\n",
       "    .dataframe tbody tr th {\n",
       "        vertical-align: top;\n",
       "    }\n",
       "\n",
       "    .dataframe thead th {\n",
       "        text-align: right;\n",
       "    }\n",
       "</style>\n",
       "<table border=\"1\" class=\"dataframe\">\n",
       "  <thead>\n",
       "    <tr style=\"text-align: right;\">\n",
       "      <th></th>\n",
       "      <th>name</th>\n",
       "      <th>callsign</th>\n",
       "      <th>imo</th>\n",
       "      <th>cruise_line</th>\n",
       "      <th>year_built</th>\n",
       "      <th>class</th>\n",
       "      <th>gross_tonnage</th>\n",
       "      <th>decks</th>\n",
       "      <th>capacity</th>\n",
       "      <th>length</th>\n",
       "      <th>vessel_type</th>\n",
       "      <th>flag</th>\n",
       "      <th>home_port</th>\n",
       "    </tr>\n",
       "  </thead>\n",
       "  <tbody>\n",
       "    <tr>\n",
       "      <th>215</th>\n",
       "      <td>M/V Lituya</td>\n",
       "      <td>WDB6180</td>\n",
       "      <td>9283148.0</td>\n",
       "      <td>Alaska Marine Highway System</td>\n",
       "      <td>2004</td>\n",
       "      <td>Llyods</td>\n",
       "      <td>758.0</td>\n",
       "      <td>12.0</td>\n",
       "      <td>150.0</td>\n",
       "      <td>220.529761</td>\n",
       "      <td>rollon-rolloff</td>\n",
       "      <td>USA</td>\n",
       "      <td>metlakatla ak</td>\n",
       "    </tr>\n",
       "  </tbody>\n",
       "</table>\n",
       "</div>"
      ],
      "text/plain": [
       "           name callsign        imo                   cruise_line year_built  \\\n",
       "215  M/V Lituya  WDB6180  9283148.0  Alaska Marine Highway System       2004   \n",
       "\n",
       "      class  gross_tonnage  decks  capacity      length     vessel_type flag  \\\n",
       "215  Llyods          758.0   12.0     150.0  220.529761  rollon-rolloff  USA   \n",
       "\n",
       "         home_port  \n",
       "215  metlakatla ak  "
      ]
     },
     "execution_count": 129,
     "metadata": {},
     "output_type": "execute_result"
    }
   ],
   "source": [
    "df1[df1['gross_tonnage']==df1['gross_tonnage'].min()]"
   ]
  },
  {
   "cell_type": "code",
   "execution_count": 131,
   "metadata": {},
   "outputs": [
    {
     "data": {
      "text/plain": [
       "12.0    95\n",
       "13.0    25\n",
       "11.0    24\n",
       "10.0    19\n",
       "15.0    13\n",
       "9.0     10\n",
       "16.0     7\n",
       "19.0     6\n",
       "14.0     5\n",
       "7.0      4\n",
       "8.0      4\n",
       "17.0     4\n",
       "18.0     4\n",
       "5.0      3\n",
       "6.0      3\n",
       "3.0      3\n",
       "4.0      1\n",
       "Name: decks, dtype: int64"
      ]
     },
     "execution_count": 131,
     "metadata": {},
     "output_type": "execute_result"
    }
   ],
   "source": [
    "df1['decks'].value_counts()"
   ]
  },
  {
   "cell_type": "markdown",
   "metadata": {},
   "source": [
    "### from the above data generated we have got the info about the total no. of decks that ships have. 95 ships have 12 decks where as only one has 4 decks.  "
   ]
  },
  {
   "cell_type": "code",
   "execution_count": 59,
   "metadata": {},
   "outputs": [
    {
     "data": {
      "image/png": "[encoded data removed]",
      "text/plain": [
       "<Figure size 1080x576 with 1 Axes>"
      ]
     },
     "metadata": {},
     "output_type": "display_data"
    }
   ],
   "source": [
    "plt.figure(figsize=(15,8))\n",
    "df1['decks'].value_counts().plot(kind='pie',autopct='%1.1f%%')\n",
    "plt.show()"
   ]
  },
  {
   "cell_type": "markdown",
   "metadata": {},
   "source": [
    "### pie chart generated here describes the same the total no. of decks that ships have in terms of percentage"
   ]
  },
  {
   "cell_type": "markdown",
   "metadata": {},
   "source": [
    "### The following ships have the maximum number of decks"
   ]
  },
  {
   "cell_type": "code",
   "execution_count": 141,
   "metadata": {},
   "outputs": [
    {
     "data": {
      "text/html": [
       "<div>\n",
       "<style scoped>\n",
       "    .dataframe tbody tr th:only-of-type {\n",
       "        vertical-align: middle;\n",
       "    }\n",
       "\n",
       "    .dataframe tbody tr th {\n",
       "        vertical-align: top;\n",
       "    }\n",
       "\n",
       "    .dataframe thead th {\n",
       "        text-align: right;\n",
       "    }\n",
       "</style>\n",
       "<table border=\"1\" class=\"dataframe\">\n",
       "  <thead>\n",
       "    <tr style=\"text-align: right;\">\n",
       "      <th></th>\n",
       "      <th>name</th>\n",
       "      <th>callsign</th>\n",
       "      <th>imo</th>\n",
       "      <th>cruise_line</th>\n",
       "      <th>year_built</th>\n",
       "      <th>class</th>\n",
       "      <th>gross_tonnage</th>\n",
       "      <th>decks</th>\n",
       "      <th>capacity</th>\n",
       "      <th>length</th>\n",
       "      <th>vessel_type</th>\n",
       "      <th>flag</th>\n",
       "      <th>home_port</th>\n",
       "    </tr>\n",
       "  </thead>\n",
       "  <tbody>\n",
       "    <tr>\n",
       "      <th>101</th>\n",
       "      <td>Ventura</td>\n",
       "      <td>ZCDT2</td>\n",
       "      <td>9333175.0</td>\n",
       "      <td>P&amp;O Cruises</td>\n",
       "      <td>2008</td>\n",
       "      <td>Grand class cruise ship</td>\n",
       "      <td>116017.0</td>\n",
       "      <td>19.0</td>\n",
       "      <td>3192.0</td>\n",
       "      <td>291.400000</td>\n",
       "      <td>passengers ship</td>\n",
       "      <td>BERMUDA</td>\n",
       "      <td>hamilton</td>\n",
       "    </tr>\n",
       "    <tr>\n",
       "      <th>102</th>\n",
       "      <td>Norwegian Epic</td>\n",
       "      <td>C6XP7</td>\n",
       "      <td>9410569.0</td>\n",
       "      <td>Norwegian Cruise Line</td>\n",
       "      <td>2009</td>\n",
       "      <td>Epic-class cruise ship[2]</td>\n",
       "      <td>155873.0</td>\n",
       "      <td>19.0</td>\n",
       "      <td>1770.0</td>\n",
       "      <td>329.000000</td>\n",
       "      <td>passengers ship</td>\n",
       "      <td>BAHAMAS</td>\n",
       "      <td>nassau</td>\n",
       "    </tr>\n",
       "    <tr>\n",
       "      <th>163</th>\n",
       "      <td>Crown Princess</td>\n",
       "      <td>ZCDM6</td>\n",
       "      <td>9293399.0</td>\n",
       "      <td>Princess Cruise Line</td>\n",
       "      <td>2006</td>\n",
       "      <td>Grand-class cruise ship</td>\n",
       "      <td>113561.0</td>\n",
       "      <td>19.0</td>\n",
       "      <td>3080.0</td>\n",
       "      <td>220.529761</td>\n",
       "      <td>passengers ship</td>\n",
       "      <td>BERMUDA</td>\n",
       "      <td>hamilton</td>\n",
       "    </tr>\n",
       "    <tr>\n",
       "      <th>242</th>\n",
       "      <td>Celebrity Solstice</td>\n",
       "      <td>9HRJ9</td>\n",
       "      <td>9362530.0</td>\n",
       "      <td>Celebrity Cruises</td>\n",
       "      <td>2008</td>\n",
       "      <td>Solstice-class cruise ship</td>\n",
       "      <td>121878.0</td>\n",
       "      <td>19.0</td>\n",
       "      <td>2852.0</td>\n",
       "      <td>220.529761</td>\n",
       "      <td>passengers ship</td>\n",
       "      <td>MALTA</td>\n",
       "      <td>valletta</td>\n",
       "    </tr>\n",
       "    <tr>\n",
       "      <th>260</th>\n",
       "      <td>Celebrity Equinox</td>\n",
       "      <td>9HXD9</td>\n",
       "      <td>9372456.0</td>\n",
       "      <td>Celebrity Cruises</td>\n",
       "      <td>2009</td>\n",
       "      <td>Solstice-class cruise ship</td>\n",
       "      <td>121878.0</td>\n",
       "      <td>19.0</td>\n",
       "      <td>2850.0</td>\n",
       "      <td>317.200000</td>\n",
       "      <td>passengers ship</td>\n",
       "      <td>MALTA</td>\n",
       "      <td>valletta</td>\n",
       "    </tr>\n",
       "    <tr>\n",
       "      <th>275</th>\n",
       "      <td>Ruby Princess</td>\n",
       "      <td>ZCDY2</td>\n",
       "      <td>9378462.0</td>\n",
       "      <td>Princess Cruises</td>\n",
       "      <td>2008</td>\n",
       "      <td>Grand class cruise ship</td>\n",
       "      <td>113561.0</td>\n",
       "      <td>19.0</td>\n",
       "      <td>3080.0</td>\n",
       "      <td>220.529761</td>\n",
       "      <td>passengers ship</td>\n",
       "      <td>BERMUDA</td>\n",
       "      <td>hamilton</td>\n",
       "    </tr>\n",
       "  </tbody>\n",
       "</table>\n",
       "</div>"
      ],
      "text/plain": [
       "                   name callsign        imo            cruise_line year_built  \\\n",
       "101             Ventura    ZCDT2  9333175.0            P&O Cruises       2008   \n",
       "102      Norwegian Epic    C6XP7  9410569.0  Norwegian Cruise Line       2009   \n",
       "163      Crown Princess    ZCDM6  9293399.0   Princess Cruise Line       2006   \n",
       "242  Celebrity Solstice    9HRJ9  9362530.0      Celebrity Cruises       2008   \n",
       "260   Celebrity Equinox    9HXD9  9372456.0      Celebrity Cruises       2009   \n",
       "275       Ruby Princess    ZCDY2  9378462.0       Princess Cruises       2008   \n",
       "\n",
       "                          class  gross_tonnage  decks  capacity      length  \\\n",
       "101     Grand class cruise ship       116017.0   19.0    3192.0  291.400000   \n",
       "102   Epic-class cruise ship[2]       155873.0   19.0    1770.0  329.000000   \n",
       "163     Grand-class cruise ship       113561.0   19.0    3080.0  220.529761   \n",
       "242  Solstice-class cruise ship       121878.0   19.0    2852.0  220.529761   \n",
       "260  Solstice-class cruise ship       121878.0   19.0    2850.0  317.200000   \n",
       "275     Grand class cruise ship       113561.0   19.0    3080.0  220.529761   \n",
       "\n",
       "         vessel_type     flag home_port  \n",
       "101  passengers ship  BERMUDA  hamilton  \n",
       "102  passengers ship  BAHAMAS    nassau  \n",
       "163  passengers ship  BERMUDA  hamilton  \n",
       "242  passengers ship    MALTA  valletta  \n",
       "260  passengers ship    MALTA  valletta  \n",
       "275  passengers ship  BERMUDA  hamilton  "
      ]
     },
     "execution_count": 141,
     "metadata": {},
     "output_type": "execute_result"
    }
   ],
   "source": [
    "df1[df1['decks']==df1['decks'].max()]"
   ]
  },
  {
   "cell_type": "markdown",
   "metadata": {},
   "source": [
    "### The following ships have the minimum number of decks"
   ]
  },
  {
   "cell_type": "code",
   "execution_count": 130,
   "metadata": {},
   "outputs": [
    {
     "data": {
      "text/html": [
       "<div>\n",
       "<style scoped>\n",
       "    .dataframe tbody tr th:only-of-type {\n",
       "        vertical-align: middle;\n",
       "    }\n",
       "\n",
       "    .dataframe tbody tr th {\n",
       "        vertical-align: top;\n",
       "    }\n",
       "\n",
       "    .dataframe thead th {\n",
       "        text-align: right;\n",
       "    }\n",
       "</style>\n",
       "<table border=\"1\" class=\"dataframe\">\n",
       "  <thead>\n",
       "    <tr style=\"text-align: right;\">\n",
       "      <th></th>\n",
       "      <th>name</th>\n",
       "      <th>callsign</th>\n",
       "      <th>imo</th>\n",
       "      <th>cruise_line</th>\n",
       "      <th>year_built</th>\n",
       "      <th>class</th>\n",
       "      <th>gross_tonnage</th>\n",
       "      <th>decks</th>\n",
       "      <th>capacity</th>\n",
       "      <th>length</th>\n",
       "      <th>vessel_type</th>\n",
       "      <th>flag</th>\n",
       "      <th>home_port</th>\n",
       "    </tr>\n",
       "  </thead>\n",
       "  <tbody>\n",
       "    <tr>\n",
       "      <th>116</th>\n",
       "      <td>Le Ponant</td>\n",
       "      <td>FGZZ</td>\n",
       "      <td>8914219.0</td>\n",
       "      <td>Princess Cruises</td>\n",
       "      <td>1991</td>\n",
       "      <td>Llyods</td>\n",
       "      <td>1189.0</td>\n",
       "      <td>3.0</td>\n",
       "      <td>67.0</td>\n",
       "      <td>88.0</td>\n",
       "      <td>passengers ship</td>\n",
       "      <td>FRANCE</td>\n",
       "      <td>matautu</td>\n",
       "    </tr>\n",
       "    <tr>\n",
       "      <th>172</th>\n",
       "      <td>N G Explorer</td>\n",
       "      <td>C6WR2</td>\n",
       "      <td>8019356.0</td>\n",
       "      <td>Lindblad Expeditions</td>\n",
       "      <td>1963</td>\n",
       "      <td>Llyods</td>\n",
       "      <td>6471.0</td>\n",
       "      <td>3.0</td>\n",
       "      <td>148.0</td>\n",
       "      <td>112.0</td>\n",
       "      <td>passengers ship</td>\n",
       "      <td>BAHAMAS</td>\n",
       "      <td>nassau</td>\n",
       "    </tr>\n",
       "    <tr>\n",
       "      <th>240</th>\n",
       "      <td>Catalonia Portsmouth Express</td>\n",
       "      <td>C6FQ4</td>\n",
       "      <td>9176046.0</td>\n",
       "      <td>Viking Line 2017-presentGotlandsbåten AB 2015-...</td>\n",
       "      <td>1998</td>\n",
       "      <td>Det Norske Veritas 1A1 HSLC R1 Car Ferry A E0</td>\n",
       "      <td>5903.0</td>\n",
       "      <td>3.0</td>\n",
       "      <td>900.0</td>\n",
       "      <td>91.0</td>\n",
       "      <td>rollon-rolloff</td>\n",
       "      <td>SWEDEN</td>\n",
       "      <td>uppsala</td>\n",
       "    </tr>\n",
       "  </tbody>\n",
       "</table>\n",
       "</div>"
      ],
      "text/plain": [
       "                             name callsign        imo  \\\n",
       "116                     Le Ponant     FGZZ  8914219.0   \n",
       "172                  N G Explorer    C6WR2  8019356.0   \n",
       "240  Catalonia Portsmouth Express    C6FQ4  9176046.0   \n",
       "\n",
       "                                           cruise_line year_built  \\\n",
       "116                                   Princess Cruises       1991   \n",
       "172                               Lindblad Expeditions       1963   \n",
       "240  Viking Line 2017-presentGotlandsbåten AB 2015-...       1998   \n",
       "\n",
       "                                             class  gross_tonnage  decks  \\\n",
       "116                                         Llyods         1189.0    3.0   \n",
       "172                                         Llyods         6471.0    3.0   \n",
       "240  Det Norske Veritas 1A1 HSLC R1 Car Ferry A E0         5903.0    3.0   \n",
       "\n",
       "     capacity  length      vessel_type     flag home_port  \n",
       "116      67.0    88.0  passengers ship   FRANCE   matautu  \n",
       "172     148.0   112.0  passengers ship  BAHAMAS    nassau  \n",
       "240     900.0    91.0   rollon-rolloff   SWEDEN   uppsala  "
      ]
     },
     "execution_count": 130,
     "metadata": {},
     "output_type": "execute_result"
    }
   ],
   "source": [
    "df1[df1['decks']==df1['decks'].min()]"
   ]
  },
  {
   "cell_type": "code",
   "execution_count": 134,
   "metadata": {},
   "outputs": [
    {
     "data": {
      "text/plain": [
       "1770.0    30\n",
       "3780.0     5\n",
       "2974.0     5\n",
       "2124.0     5\n",
       "2056.0     4\n",
       "          ..\n",
       "1980.0     1\n",
       "2415.0     1\n",
       "3470.0     1\n",
       "1878.0     1\n",
       "820.0      1\n",
       "Name: capacity, Length: 140, dtype: int64"
      ]
     },
     "execution_count": 134,
     "metadata": {},
     "output_type": "execute_result"
    }
   ],
   "source": [
    "df1['capacity'].value_counts()"
   ]
  },
  {
   "cell_type": "markdown",
   "metadata": {},
   "source": [
    "### from the above data we can say that there are 30 ships that have the ability to carry 1770 people onboard "
   ]
  },
  {
   "cell_type": "markdown",
   "metadata": {},
   "source": [
    "### The following ships have the maximum capacity to take people onboard"
   ]
  },
  {
   "cell_type": "code",
   "execution_count": 143,
   "metadata": {},
   "outputs": [
    {
     "data": {
      "text/html": [
       "<div>\n",
       "<style scoped>\n",
       "    .dataframe tbody tr th:only-of-type {\n",
       "        vertical-align: middle;\n",
       "    }\n",
       "\n",
       "    .dataframe tbody tr th {\n",
       "        vertical-align: top;\n",
       "    }\n",
       "\n",
       "    .dataframe thead th {\n",
       "        text-align: right;\n",
       "    }\n",
       "</style>\n",
       "<table border=\"1\" class=\"dataframe\">\n",
       "  <thead>\n",
       "    <tr style=\"text-align: right;\">\n",
       "      <th></th>\n",
       "      <th>name</th>\n",
       "      <th>callsign</th>\n",
       "      <th>imo</th>\n",
       "      <th>cruise_line</th>\n",
       "      <th>year_built</th>\n",
       "      <th>class</th>\n",
       "      <th>gross_tonnage</th>\n",
       "      <th>decks</th>\n",
       "      <th>capacity</th>\n",
       "      <th>length</th>\n",
       "      <th>vessel_type</th>\n",
       "      <th>flag</th>\n",
       "      <th>home_port</th>\n",
       "    </tr>\n",
       "  </thead>\n",
       "  <tbody>\n",
       "    <tr>\n",
       "      <th>80</th>\n",
       "      <td>Allure of the Seas</td>\n",
       "      <td>C6XS8</td>\n",
       "      <td>9383948.0</td>\n",
       "      <td>Royal Caribbean International</td>\n",
       "      <td>2010</td>\n",
       "      <td>Oasis-class cruise ship</td>\n",
       "      <td>220000.0</td>\n",
       "      <td>16.0</td>\n",
       "      <td>5400.0</td>\n",
       "      <td>360.0</td>\n",
       "      <td>passengers ship</td>\n",
       "      <td>BAHAMAS</td>\n",
       "      <td>nassau</td>\n",
       "    </tr>\n",
       "    <tr>\n",
       "      <th>221</th>\n",
       "      <td>Oasis of the Seas</td>\n",
       "      <td>C6XS7</td>\n",
       "      <td>9383936.0</td>\n",
       "      <td>Royal Caribbean International</td>\n",
       "      <td>2009</td>\n",
       "      <td>Oasis-class cruise ship</td>\n",
       "      <td>220000.0</td>\n",
       "      <td>16.0</td>\n",
       "      <td>5400.0</td>\n",
       "      <td>360.0</td>\n",
       "      <td>passengers ship</td>\n",
       "      <td>BAHAMAS</td>\n",
       "      <td>nassau</td>\n",
       "    </tr>\n",
       "  </tbody>\n",
       "</table>\n",
       "</div>"
      ],
      "text/plain": [
       "                   name callsign        imo                    cruise_line  \\\n",
       "80   Allure of the Seas    C6XS8  9383948.0  Royal Caribbean International   \n",
       "221   Oasis of the Seas    C6XS7  9383936.0  Royal Caribbean International   \n",
       "\n",
       "    year_built                    class  gross_tonnage  decks  capacity  \\\n",
       "80        2010  Oasis-class cruise ship       220000.0   16.0    5400.0   \n",
       "221       2009  Oasis-class cruise ship       220000.0   16.0    5400.0   \n",
       "\n",
       "     length      vessel_type     flag home_port  \n",
       "80    360.0  passengers ship  BAHAMAS    nassau  \n",
       "221   360.0  passengers ship  BAHAMAS    nassau  "
      ]
     },
     "execution_count": 143,
     "metadata": {},
     "output_type": "execute_result"
    }
   ],
   "source": [
    "df1[df1['capacity']==df1['capacity'].max()]"
   ]
  },
  {
   "cell_type": "markdown",
   "metadata": {},
   "source": [
    "### The following ship has the minimum capacity to take people onboard"
   ]
  },
  {
   "cell_type": "code",
   "execution_count": 131,
   "metadata": {},
   "outputs": [
    {
     "data": {
      "text/html": [
       "<div>\n",
       "<style scoped>\n",
       "    .dataframe tbody tr th:only-of-type {\n",
       "        vertical-align: middle;\n",
       "    }\n",
       "\n",
       "    .dataframe tbody tr th {\n",
       "        vertical-align: top;\n",
       "    }\n",
       "\n",
       "    .dataframe thead th {\n",
       "        text-align: right;\n",
       "    }\n",
       "</style>\n",
       "<table border=\"1\" class=\"dataframe\">\n",
       "  <thead>\n",
       "    <tr style=\"text-align: right;\">\n",
       "      <th></th>\n",
       "      <th>name</th>\n",
       "      <th>callsign</th>\n",
       "      <th>imo</th>\n",
       "      <th>cruise_line</th>\n",
       "      <th>year_built</th>\n",
       "      <th>class</th>\n",
       "      <th>gross_tonnage</th>\n",
       "      <th>decks</th>\n",
       "      <th>capacity</th>\n",
       "      <th>length</th>\n",
       "      <th>vessel_type</th>\n",
       "      <th>flag</th>\n",
       "      <th>home_port</th>\n",
       "    </tr>\n",
       "  </thead>\n",
       "  <tbody>\n",
       "    <tr>\n",
       "      <th>250</th>\n",
       "      <td>Riverdance</td>\n",
       "      <td>C6CG3</td>\n",
       "      <td>7635361.0</td>\n",
       "      <td>Crescent Marine Services Ltd</td>\n",
       "      <td>1977</td>\n",
       "      <td>Llyods</td>\n",
       "      <td>6041.0</td>\n",
       "      <td>12.0</td>\n",
       "      <td>12.0</td>\n",
       "      <td>116.31</td>\n",
       "      <td>rollon-rolloff</td>\n",
       "      <td>ITALY</td>\n",
       "      <td>arkhangelsk</td>\n",
       "    </tr>\n",
       "  </tbody>\n",
       "</table>\n",
       "</div>"
      ],
      "text/plain": [
       "           name callsign        imo                   cruise_line year_built  \\\n",
       "250  Riverdance    C6CG3  7635361.0  Crescent Marine Services Ltd       1977   \n",
       "\n",
       "      class  gross_tonnage  decks  capacity  length     vessel_type   flag  \\\n",
       "250  Llyods         6041.0   12.0      12.0  116.31  rollon-rolloff  ITALY   \n",
       "\n",
       "       home_port  \n",
       "250  arkhangelsk  "
      ]
     },
     "execution_count": 131,
     "metadata": {},
     "output_type": "execute_result"
    }
   ],
   "source": [
    "df1[df1['capacity']==df1['capacity'].min()]"
   ]
  },
  {
   "cell_type": "markdown",
   "metadata": {},
   "source": [
    "### The following ships have the maximum length"
   ]
  },
  {
   "cell_type": "code",
   "execution_count": 145,
   "metadata": {},
   "outputs": [
    {
     "data": {
      "text/html": [
       "<div>\n",
       "<style scoped>\n",
       "    .dataframe tbody tr th:only-of-type {\n",
       "        vertical-align: middle;\n",
       "    }\n",
       "\n",
       "    .dataframe tbody tr th {\n",
       "        vertical-align: top;\n",
       "    }\n",
       "\n",
       "    .dataframe thead th {\n",
       "        text-align: right;\n",
       "    }\n",
       "</style>\n",
       "<table border=\"1\" class=\"dataframe\">\n",
       "  <thead>\n",
       "    <tr style=\"text-align: right;\">\n",
       "      <th></th>\n",
       "      <th>name</th>\n",
       "      <th>callsign</th>\n",
       "      <th>imo</th>\n",
       "      <th>cruise_line</th>\n",
       "      <th>year_built</th>\n",
       "      <th>class</th>\n",
       "      <th>gross_tonnage</th>\n",
       "      <th>decks</th>\n",
       "      <th>capacity</th>\n",
       "      <th>length</th>\n",
       "      <th>vessel_type</th>\n",
       "      <th>flag</th>\n",
       "      <th>home_port</th>\n",
       "    </tr>\n",
       "  </thead>\n",
       "  <tbody>\n",
       "    <tr>\n",
       "      <th>80</th>\n",
       "      <td>Allure of the Seas</td>\n",
       "      <td>C6XS8</td>\n",
       "      <td>9383948.0</td>\n",
       "      <td>Royal Caribbean International</td>\n",
       "      <td>2010</td>\n",
       "      <td>Oasis-class cruise ship</td>\n",
       "      <td>220000.0</td>\n",
       "      <td>16.0</td>\n",
       "      <td>5400.0</td>\n",
       "      <td>360.0</td>\n",
       "      <td>passengers ship</td>\n",
       "      <td>BAHAMAS</td>\n",
       "      <td>nassau</td>\n",
       "    </tr>\n",
       "    <tr>\n",
       "      <th>221</th>\n",
       "      <td>Oasis of the Seas</td>\n",
       "      <td>C6XS7</td>\n",
       "      <td>9383936.0</td>\n",
       "      <td>Royal Caribbean International</td>\n",
       "      <td>2009</td>\n",
       "      <td>Oasis-class cruise ship</td>\n",
       "      <td>220000.0</td>\n",
       "      <td>16.0</td>\n",
       "      <td>5400.0</td>\n",
       "      <td>360.0</td>\n",
       "      <td>passengers ship</td>\n",
       "      <td>BAHAMAS</td>\n",
       "      <td>nassau</td>\n",
       "    </tr>\n",
       "  </tbody>\n",
       "</table>\n",
       "</div>"
      ],
      "text/plain": [
       "                   name callsign        imo                    cruise_line  \\\n",
       "80   Allure of the Seas    C6XS8  9383948.0  Royal Caribbean International   \n",
       "221   Oasis of the Seas    C6XS7  9383936.0  Royal Caribbean International   \n",
       "\n",
       "    year_built                    class  gross_tonnage  decks  capacity  \\\n",
       "80        2010  Oasis-class cruise ship       220000.0   16.0    5400.0   \n",
       "221       2009  Oasis-class cruise ship       220000.0   16.0    5400.0   \n",
       "\n",
       "     length      vessel_type     flag home_port  \n",
       "80    360.0  passengers ship  BAHAMAS    nassau  \n",
       "221   360.0  passengers ship  BAHAMAS    nassau  "
      ]
     },
     "execution_count": 145,
     "metadata": {},
     "output_type": "execute_result"
    }
   ],
   "source": [
    "df1[df1['length']==df1['length'].max()]"
   ]
  },
  {
   "cell_type": "markdown",
   "metadata": {},
   "source": [
    "### The following ships has the minimum length"
   ]
  },
  {
   "cell_type": "code",
   "execution_count": 146,
   "metadata": {},
   "outputs": [
    {
     "data": {
      "text/html": [
       "<div>\n",
       "<style scoped>\n",
       "    .dataframe tbody tr th:only-of-type {\n",
       "        vertical-align: middle;\n",
       "    }\n",
       "\n",
       "    .dataframe tbody tr th {\n",
       "        vertical-align: top;\n",
       "    }\n",
       "\n",
       "    .dataframe thead th {\n",
       "        text-align: right;\n",
       "    }\n",
       "</style>\n",
       "<table border=\"1\" class=\"dataframe\">\n",
       "  <thead>\n",
       "    <tr style=\"text-align: right;\">\n",
       "      <th></th>\n",
       "      <th>name</th>\n",
       "      <th>callsign</th>\n",
       "      <th>imo</th>\n",
       "      <th>cruise_line</th>\n",
       "      <th>year_built</th>\n",
       "      <th>class</th>\n",
       "      <th>gross_tonnage</th>\n",
       "      <th>decks</th>\n",
       "      <th>capacity</th>\n",
       "      <th>length</th>\n",
       "      <th>vessel_type</th>\n",
       "      <th>flag</th>\n",
       "      <th>home_port</th>\n",
       "    </tr>\n",
       "  </thead>\n",
       "  <tbody>\n",
       "    <tr>\n",
       "      <th>10</th>\n",
       "      <td>Spirit Of Glacier Bay</td>\n",
       "      <td>WDD4938</td>\n",
       "      <td>8883563.0</td>\n",
       "      <td>Cruise West</td>\n",
       "      <td>1984</td>\n",
       "      <td>Llyods</td>\n",
       "      <td>1471.0</td>\n",
       "      <td>12.0</td>\n",
       "      <td>102.0</td>\n",
       "      <td>52.578</td>\n",
       "      <td>passengers ship</td>\n",
       "      <td>USA</td>\n",
       "      <td>arkhangelsk</td>\n",
       "    </tr>\n",
       "  </tbody>\n",
       "</table>\n",
       "</div>"
      ],
      "text/plain": [
       "                     name callsign        imo  cruise_line year_built   class  \\\n",
       "10  Spirit Of Glacier Bay  WDD4938  8883563.0  Cruise West       1984  Llyods   \n",
       "\n",
       "    gross_tonnage  decks  capacity  length      vessel_type flag    home_port  \n",
       "10         1471.0   12.0     102.0  52.578  passengers ship  USA  arkhangelsk  "
      ]
     },
     "execution_count": 146,
     "metadata": {},
     "output_type": "execute_result"
    }
   ],
   "source": [
    "df1[df1['length']==df1['length'].min()]"
   ]
  },
  {
   "cell_type": "markdown",
   "metadata": {},
   "source": [
    "### To compare the data of various types of ships in terms of maximum and minimum the following operations have been done"
   ]
  },
  {
   "cell_type": "code",
   "execution_count": 41,
   "metadata": {},
   "outputs": [],
   "source": [
    "g=df1.groupby('vessel_type')"
   ]
  },
  {
   "cell_type": "code",
   "execution_count": 42,
   "metadata": {},
   "outputs": [
    {
     "name": "stderr",
     "output_type": "stream",
     "text": [
      "c:\\users\\baps\\appdata\\local\\programs\\python\\python37\\lib\\site-packages\\ipykernel_launcher.py:1: FutureWarning: Indexing with multiple keys (implicitly converted to a tuple of keys) will be deprecated, use a list instead.\n",
      "  \"\"\"Entry point for launching an IPython kernel.\n"
     ]
    },
    {
     "data": {
      "text/html": [
       "<div>\n",
       "<style scoped>\n",
       "    .dataframe tbody tr th:only-of-type {\n",
       "        vertical-align: middle;\n",
       "    }\n",
       "\n",
       "    .dataframe tbody tr th {\n",
       "        vertical-align: top;\n",
       "    }\n",
       "\n",
       "    .dataframe thead th {\n",
       "        text-align: right;\n",
       "    }\n",
       "</style>\n",
       "<table border=\"1\" class=\"dataframe\">\n",
       "  <thead>\n",
       "    <tr style=\"text-align: right;\">\n",
       "      <th></th>\n",
       "      <th>imo</th>\n",
       "      <th>class</th>\n",
       "      <th>Year_Built</th>\n",
       "      <th>gross_tonnage</th>\n",
       "      <th>decks</th>\n",
       "      <th>capacity</th>\n",
       "      <th>length</th>\n",
       "      <th>flag</th>\n",
       "      <th>home_port</th>\n",
       "    </tr>\n",
       "    <tr>\n",
       "      <th>vessel_type</th>\n",
       "      <th></th>\n",
       "      <th></th>\n",
       "      <th></th>\n",
       "      <th></th>\n",
       "      <th></th>\n",
       "      <th></th>\n",
       "      <th></th>\n",
       "      <th></th>\n",
       "      <th></th>\n",
       "    </tr>\n",
       "  </thead>\n",
       "  <tbody>\n",
       "    <tr>\n",
       "      <th>icebreaker</th>\n",
       "      <td>7824405.0</td>\n",
       "      <td>Icebreaker</td>\n",
       "      <td>1970</td>\n",
       "      <td>12919.0</td>\n",
       "      <td>12.0</td>\n",
       "      <td>102.0</td>\n",
       "      <td>129.020000</td>\n",
       "      <td>RUSSIA</td>\n",
       "      <td>murmansk</td>\n",
       "    </tr>\n",
       "    <tr>\n",
       "      <th>passengers ship</th>\n",
       "      <td>9692569.0</td>\n",
       "      <td>cruise ship</td>\n",
       "      <td>1970</td>\n",
       "      <td>220000.0</td>\n",
       "      <td>19.0</td>\n",
       "      <td>5400.0</td>\n",
       "      <td>360.000000</td>\n",
       "      <td>VANUATU</td>\n",
       "      <td>valletta</td>\n",
       "    </tr>\n",
       "    <tr>\n",
       "      <th>research</th>\n",
       "      <td>8010348.0</td>\n",
       "      <td>Akademik Shuleykin-class research vessel; now ...</td>\n",
       "      <td>1970</td>\n",
       "      <td>1753.0</td>\n",
       "      <td>12.0</td>\n",
       "      <td>48.0</td>\n",
       "      <td>69.700000</td>\n",
       "      <td>RUSSIA</td>\n",
       "      <td>arkhangelsk</td>\n",
       "    </tr>\n",
       "    <tr>\n",
       "      <th>rollon-rolloff</th>\n",
       "      <td>9370018.0</td>\n",
       "      <td>Superfast III class fast ropax ferry</td>\n",
       "      <td>1970</td>\n",
       "      <td>59925.0</td>\n",
       "      <td>12.0</td>\n",
       "      <td>2415.0</td>\n",
       "      <td>220.529761</td>\n",
       "      <td>USA</td>\n",
       "      <td>victoria</td>\n",
       "    </tr>\n",
       "  </tbody>\n",
       "</table>\n",
       "</div>"
      ],
      "text/plain": [
       "                       imo                                              class  \\\n",
       "vessel_type                                                                     \n",
       "icebreaker       7824405.0                                         Icebreaker   \n",
       "passengers ship  9692569.0                                        cruise ship   \n",
       "research         8010348.0  Akademik Shuleykin-class research vessel; now ...   \n",
       "rollon-rolloff   9370018.0               Superfast III class fast ropax ferry   \n",
       "\n",
       "                 Year_Built  gross_tonnage  decks  capacity      length  \\\n",
       "vessel_type                                                               \n",
       "icebreaker             1970        12919.0   12.0     102.0  129.020000   \n",
       "passengers ship        1970       220000.0   19.0    5400.0  360.000000   \n",
       "research               1970         1753.0   12.0      48.0   69.700000   \n",
       "rollon-rolloff         1970        59925.0   12.0    2415.0  220.529761   \n",
       "\n",
       "                    flag    home_port  \n",
       "vessel_type                            \n",
       "icebreaker        RUSSIA     murmansk  \n",
       "passengers ship  VANUATU     valletta  \n",
       "research          RUSSIA  arkhangelsk  \n",
       "rollon-rolloff       USA     victoria  "
      ]
     },
     "execution_count": 42,
     "metadata": {},
     "output_type": "execute_result"
    }
   ],
   "source": [
    "g['imo','class','Year_Built','gross_tonnage','decks','capacity','length','flag','home_port'].agg(np.max)"
   ]
  },
  {
   "cell_type": "code",
   "execution_count": 43,
   "metadata": {},
   "outputs": [
    {
     "name": "stderr",
     "output_type": "stream",
     "text": [
      "c:\\users\\baps\\appdata\\local\\programs\\python\\python37\\lib\\site-packages\\ipykernel_launcher.py:1: FutureWarning: Indexing with multiple keys (implicitly converted to a tuple of keys) will be deprecated, use a list instead.\n",
      "  \"\"\"Entry point for launching an IPython kernel.\n"
     ]
    },
    {
     "data": {
      "text/html": [
       "<div>\n",
       "<style scoped>\n",
       "    .dataframe tbody tr th:only-of-type {\n",
       "        vertical-align: middle;\n",
       "    }\n",
       "\n",
       "    .dataframe tbody tr th {\n",
       "        vertical-align: top;\n",
       "    }\n",
       "\n",
       "    .dataframe thead th {\n",
       "        text-align: right;\n",
       "    }\n",
       "</style>\n",
       "<table border=\"1\" class=\"dataframe\">\n",
       "  <thead>\n",
       "    <tr style=\"text-align: right;\">\n",
       "      <th></th>\n",
       "      <th>imo</th>\n",
       "      <th>class</th>\n",
       "      <th>Year_Built</th>\n",
       "      <th>gross_tonnage</th>\n",
       "      <th>decks</th>\n",
       "      <th>capacity</th>\n",
       "      <th>length</th>\n",
       "      <th>flag</th>\n",
       "      <th>home_port</th>\n",
       "    </tr>\n",
       "    <tr>\n",
       "      <th>vessel_type</th>\n",
       "      <th></th>\n",
       "      <th></th>\n",
       "      <th></th>\n",
       "      <th></th>\n",
       "      <th></th>\n",
       "      <th></th>\n",
       "      <th></th>\n",
       "      <th></th>\n",
       "      <th></th>\n",
       "    </tr>\n",
       "  </thead>\n",
       "  <tbody>\n",
       "    <tr>\n",
       "      <th>icebreaker</th>\n",
       "      <td>7824405.0</td>\n",
       "      <td>Icebreaker</td>\n",
       "      <td>1970</td>\n",
       "      <td>12919.0</td>\n",
       "      <td>12.0</td>\n",
       "      <td>102.0</td>\n",
       "      <td>129.020</td>\n",
       "      <td>RUSSIA</td>\n",
       "      <td>murmansk</td>\n",
       "    </tr>\n",
       "    <tr>\n",
       "      <th>passengers ship</th>\n",
       "      <td>5260679.0</td>\n",
       "      <td>Caribbean Class cruise ship</td>\n",
       "      <td>1963</td>\n",
       "      <td>1189.0</td>\n",
       "      <td>3.0</td>\n",
       "      <td>67.0</td>\n",
       "      <td>52.578</td>\n",
       "      <td>BAHAMAS</td>\n",
       "      <td>arkhangelsk</td>\n",
       "    </tr>\n",
       "    <tr>\n",
       "      <th>research</th>\n",
       "      <td>8010348.0</td>\n",
       "      <td>Akademik Shuleykin-class research vessel; now ...</td>\n",
       "      <td>1970</td>\n",
       "      <td>1753.0</td>\n",
       "      <td>12.0</td>\n",
       "      <td>48.0</td>\n",
       "      <td>69.700</td>\n",
       "      <td>RUSSIA</td>\n",
       "      <td>arkhangelsk</td>\n",
       "    </tr>\n",
       "    <tr>\n",
       "      <th>rollon-rolloff</th>\n",
       "      <td>5218183.0</td>\n",
       "      <td>+100 A 1, Ro-Ro Cargo/Passenger Ferry + LMC, U...</td>\n",
       "      <td>1963</td>\n",
       "      <td>758.0</td>\n",
       "      <td>3.0</td>\n",
       "      <td>12.0</td>\n",
       "      <td>86.620</td>\n",
       "      <td>AUSTRALIA</td>\n",
       "      <td>arkhangelsk</td>\n",
       "    </tr>\n",
       "  </tbody>\n",
       "</table>\n",
       "</div>"
      ],
      "text/plain": [
       "                       imo                                              class  \\\n",
       "vessel_type                                                                     \n",
       "icebreaker       7824405.0                                         Icebreaker   \n",
       "passengers ship  5260679.0                        Caribbean Class cruise ship   \n",
       "research         8010348.0  Akademik Shuleykin-class research vessel; now ...   \n",
       "rollon-rolloff   5218183.0  +100 A 1, Ro-Ro Cargo/Passenger Ferry + LMC, U...   \n",
       "\n",
       "                 Year_Built  gross_tonnage  decks  capacity   length  \\\n",
       "vessel_type                                                            \n",
       "icebreaker             1970        12919.0   12.0     102.0  129.020   \n",
       "passengers ship        1963         1189.0    3.0      67.0   52.578   \n",
       "research               1970         1753.0   12.0      48.0   69.700   \n",
       "rollon-rolloff         1963          758.0    3.0      12.0   86.620   \n",
       "\n",
       "                      flag    home_port  \n",
       "vessel_type                              \n",
       "icebreaker          RUSSIA     murmansk  \n",
       "passengers ship    BAHAMAS  arkhangelsk  \n",
       "research            RUSSIA  arkhangelsk  \n",
       "rollon-rolloff   AUSTRALIA  arkhangelsk  "
      ]
     },
     "execution_count": 43,
     "metadata": {},
     "output_type": "execute_result"
    }
   ],
   "source": [
    "g['imo','class','Year_Built','gross_tonnage','decks','capacity','length','flag','home_port'].agg(np.min)"
   ]
  },
  {
   "cell_type": "markdown",
   "metadata": {},
   "source": [
    "#### As the number of 'ice breaker' and 'research' ships are only 1 in number so no considerable changes have been seen from the above data generated"
   ]
  },
  {
   "cell_type": "code",
   "execution_count": 35,
   "metadata": {},
   "outputs": [
    {
     "data": {
      "text/html": [
       "<div>\n",
       "<style scoped>\n",
       "    .dataframe tbody tr th:only-of-type {\n",
       "        vertical-align: middle;\n",
       "    }\n",
       "\n",
       "    .dataframe tbody tr th {\n",
       "        vertical-align: top;\n",
       "    }\n",
       "\n",
       "    .dataframe thead th {\n",
       "        text-align: right;\n",
       "    }\n",
       "</style>\n",
       "<table border=\"1\" class=\"dataframe\">\n",
       "  <thead>\n",
       "    <tr style=\"text-align: right;\">\n",
       "      <th></th>\n",
       "      <th>name</th>\n",
       "      <th>callsign</th>\n",
       "      <th>imo</th>\n",
       "      <th>cruise_line</th>\n",
       "      <th>class</th>\n",
       "      <th>gross_tonnage</th>\n",
       "      <th>decks</th>\n",
       "      <th>capacity</th>\n",
       "      <th>length</th>\n",
       "      <th>vessel_type</th>\n",
       "      <th>flag</th>\n",
       "      <th>home_port</th>\n",
       "      <th>Year_Built</th>\n",
       "    </tr>\n",
       "  </thead>\n",
       "  <tbody>\n",
       "    <tr>\n",
       "      <th>1</th>\n",
       "      <td>Marco Polo</td>\n",
       "      <td>C6JZ7</td>\n",
       "      <td>6417097.0</td>\n",
       "      <td>1965–1980?: Baltic Shipping Company[1]1979?–19...</td>\n",
       "      <td>Ivan Franko-class passenger ship → Ocean liner</td>\n",
       "      <td>22080.0</td>\n",
       "      <td>12.0</td>\n",
       "      <td>820.0</td>\n",
       "      <td>176.28</td>\n",
       "      <td>passengers ship</td>\n",
       "      <td>BAHAMAS</td>\n",
       "      <td>nassau</td>\n",
       "      <td>1970</td>\n",
       "    </tr>\n",
       "    <tr>\n",
       "      <th>2</th>\n",
       "      <td>Seabourn Quest</td>\n",
       "      <td>C6YZ5</td>\n",
       "      <td>9483126.0</td>\n",
       "      <td>Seabourn Cruise Line</td>\n",
       "      <td>Seabourn Odyssey class</td>\n",
       "      <td>32477.0</td>\n",
       "      <td>11.0</td>\n",
       "      <td>450.0</td>\n",
       "      <td>198.15</td>\n",
       "      <td>passengers ship</td>\n",
       "      <td>BAHAMAS</td>\n",
       "      <td>nassau</td>\n",
       "      <td>1970</td>\n",
       "    </tr>\n",
       "    <tr>\n",
       "      <th>3</th>\n",
       "      <td>Oriana</td>\n",
       "      <td>ZCDU9</td>\n",
       "      <td>9050137.0</td>\n",
       "      <td>P&amp;O Cruises</td>\n",
       "      <td>Llyods</td>\n",
       "      <td>69840.0</td>\n",
       "      <td>10.0</td>\n",
       "      <td>1770.0</td>\n",
       "      <td>260.00</td>\n",
       "      <td>passengers ship</td>\n",
       "      <td>BERMUDA</td>\n",
       "      <td>hamilton</td>\n",
       "      <td>1970</td>\n",
       "    </tr>\n",
       "    <tr>\n",
       "      <th>4</th>\n",
       "      <td>European Causeway</td>\n",
       "      <td>C6RG7</td>\n",
       "      <td>9208394.0</td>\n",
       "      <td>P&amp;O Ferries</td>\n",
       "      <td>Llyods</td>\n",
       "      <td>20646.0</td>\n",
       "      <td>12.0</td>\n",
       "      <td>410.0</td>\n",
       "      <td>156.20</td>\n",
       "      <td>ro</td>\n",
       "      <td>BAHAMAS</td>\n",
       "      <td>nassau</td>\n",
       "      <td>1970</td>\n",
       "    </tr>\n",
       "    <tr>\n",
       "      <th>5</th>\n",
       "      <td>Sensation</td>\n",
       "      <td>C6FM8</td>\n",
       "      <td>8711356.0</td>\n",
       "      <td>Carnival Cruise Lines</td>\n",
       "      <td>Fantasy-class cruise ship</td>\n",
       "      <td>70538.0</td>\n",
       "      <td>10.0</td>\n",
       "      <td>2056.0</td>\n",
       "      <td>69.00</td>\n",
       "      <td>passengers ship</td>\n",
       "      <td>BAHAMAS</td>\n",
       "      <td>nassau</td>\n",
       "      <td>1970</td>\n",
       "    </tr>\n",
       "  </tbody>\n",
       "</table>\n",
       "</div>"
      ],
      "text/plain": [
       "                name callsign        imo  \\\n",
       "1         Marco Polo    C6JZ7  6417097.0   \n",
       "2     Seabourn Quest    C6YZ5  9483126.0   \n",
       "3             Oriana    ZCDU9  9050137.0   \n",
       "4  European Causeway    C6RG7  9208394.0   \n",
       "5          Sensation    C6FM8  8711356.0   \n",
       "\n",
       "                                         cruise_line  \\\n",
       "1  1965–1980?: Baltic Shipping Company[1]1979?–19...   \n",
       "2                               Seabourn Cruise Line   \n",
       "3                                        P&O Cruises   \n",
       "4                                        P&O Ferries   \n",
       "5                              Carnival Cruise Lines   \n",
       "\n",
       "                                            class  gross_tonnage  decks  \\\n",
       "1  Ivan Franko-class passenger ship → Ocean liner        22080.0   12.0   \n",
       "2                          Seabourn Odyssey class        32477.0   11.0   \n",
       "3                                          Llyods        69840.0   10.0   \n",
       "4                                          Llyods        20646.0   12.0   \n",
       "5                       Fantasy-class cruise ship        70538.0   10.0   \n",
       "\n",
       "   capacity  length      vessel_type     flag home_port  Year_Built  \n",
       "1     820.0  176.28  passengers ship  BAHAMAS    nassau        1970  \n",
       "2     450.0  198.15  passengers ship  BAHAMAS    nassau        1970  \n",
       "3    1770.0  260.00  passengers ship  BERMUDA  hamilton        1970  \n",
       "4     410.0  156.20               ro  BAHAMAS    nassau        1970  \n",
       "5    2056.0   69.00  passengers ship  BAHAMAS    nassau        1970  "
      ]
     },
     "execution_count": 35,
     "metadata": {},
     "output_type": "execute_result"
    }
   ],
   "source": [
    "df1.head()"
   ]
  },
  {
   "cell_type": "code",
   "execution_count": 44,
   "metadata": {},
   "outputs": [
    {
     "data": {
      "text/plain": [
       "<matplotlib.axes._subplots.AxesSubplot at 0x1d469091dd8>"
      ]
     },
     "execution_count": 44,
     "metadata": {},
     "output_type": "execute_result"
    },
    {
     "data": {
      "image/png": "[encoded data removed]",
      "text/plain": [
       "<Figure size 432x288 with 1 Axes>"
      ]
     },
     "metadata": {
      "needs_background": "light"
     },
     "output_type": "display_data"
    }
   ],
   "source": [
    "sns.regplot(x='gross_tonnage',y='capacity',data=df1)"
   ]
  },
  {
   "cell_type": "code",
   "execution_count": 51,
   "metadata": {},
   "outputs": [
    {
     "data": {
      "text/plain": [
       "<matplotlib.axes._subplots.AxesSubplot at 0x1d469391b70>"
      ]
     },
     "execution_count": 51,
     "metadata": {},
     "output_type": "execute_result"
    },
    {
     "data": {
      "image/png": "[encoded data removed]",
      "text/plain": [
       "<Figure size 432x288 with 1 Axes>"
      ]
     },
     "metadata": {
      "needs_background": "light"
     },
     "output_type": "display_data"
    }
   ],
   "source": [
    "sns.regplot(x='decks',y='capacity',data=df1)"
   ]
  },
  {
   "cell_type": "code",
   "execution_count": 52,
   "metadata": {},
   "outputs": [
    {
     "data": {
      "text/plain": [
       "<seaborn.axisgrid.FacetGrid at 0x1d469400f60>"
      ]
     },
     "execution_count": 52,
     "metadata": {},
     "output_type": "execute_result"
    },
    {
     "data": {
      "image/png": "[encoded data removed]",
      "text/plain": [
       "<Figure size 360x360 with 1 Axes>"
      ]
     },
     "metadata": {
      "needs_background": "light"
     },
     "output_type": "display_data"
    }
   ],
   "source": [
    "sns.relplot(x='decks',y='capacity',data=df1,kind='line')"
   ]
  },
  {
   "cell_type": "code",
   "execution_count": 49,
   "metadata": {},
   "outputs": [
    {
     "data": {
      "text/plain": [
       "<matplotlib.axes._subplots.AxesSubplot at 0x1d469214358>"
      ]
     },
     "execution_count": 49,
     "metadata": {},
     "output_type": "execute_result"
    },
    {
     "data": {
      "image/png": "[encoded data removed]",
      "text/plain": [
       "<Figure size 432x288 with 1 Axes>"
      ]
     },
     "metadata": {
      "needs_background": "light"
     },
     "output_type": "display_data"
    }
   ],
   "source": [
    "sns.regplot(x='gross_tonnage',y='length',data=df1)"
   ]
  },
  {
   "cell_type": "code",
   "execution_count": null,
   "metadata": {},
   "outputs": [],
   "source": []
  }
 ],
 "metadata": {
  "kernelspec": {
   "display_name": "Python 3",
   "language": "python",
   "name": "python3"
  },
  "language_info": {
   "codemirror_mode": {
    "name": "ipython",
    "version": 3
   },
   "file_extension": ".py",
   "mimetype": "text/x-python",
   "name": "python",
   "nbconvert_exporter": "python",
   "pygments_lexer": "ipython3",
   "version": "3.7.3"
  }
 },
 "nbformat": 4,
 "nbformat_minor": 4
}
